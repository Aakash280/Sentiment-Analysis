{
  "cells": [
    {
      "cell_type": "code",
      "execution_count": null,
      "metadata": {
        "id": "as23XVqehZCA"
      },
      "outputs": [],
      "source": [
        "# Import statements\n",
        "import pandas as pd\n",
        "import numpy as np\n",
        "import matplotlib.pyplot as plt\n",
        "import seaborn as sns\n",
        "import re\n",
        "import nltk\n",
        "from sklearn.model_selection import train_test_split\n",
        "from sklearn.feature_extraction.text import TfidfVectorizer\n",
        "from sklearn.pipeline import Pipeline\n",
        "from sklearn.metrics import accuracy_score, confusion_matrix, classification_report,ConfusionMatrixDisplay\n",
        "from sklearn import naive_bayes\n",
        "from sklearn.linear_model import LogisticRegression\n",
        "from sklearn.svm import LinearSVC\n",
        "from sklearn.neighbors import KNeighborsClassifier\n",
        "from bs4 import BeautifulSoup\n",
        "from nltk.corpus import stopwords\n",
        "from sklearn.ensemble import RandomForestClassifier"
      ]
    },
    {
      "cell_type": "code",
      "execution_count": null,
      "metadata": {
        "colab": {
          "base_uri": "https://localhost:8080/"
        },
        "id": "ylv8TGxRiUrT",
        "outputId": "1b33b44d-ec5d-415d-d23b-d696b65b06bb"
      },
      "outputs": [
        {
          "output_type": "stream",
          "name": "stdout",
          "text": [
            "Drive already mounted at /content/drive; to attempt to forcibly remount, call drive.mount(\"/content/drive\", force_remount=True).\n"
          ]
        }
      ],
      "source": [
        "from google.colab import drive\n",
        "drive.mount('/content/drive')"
      ]
    },
    {
      "cell_type": "code",
      "execution_count": null,
      "metadata": {
        "colab": {
          "base_uri": "https://localhost:8080/",
          "height": 414
        },
        "id": "AkRei3bZlZwK",
        "outputId": "6a8d57a0-b3e9-42c1-f5ec-58fc44b76619"
      },
      "outputs": [
        {
          "output_type": "execute_result",
          "data": {
            "text/plain": [
              "   Unnamed: 0                                product_name  \\\n",
              "0          20  PRETTYGARDEN Womens Casual Bodycon Pockets   \n",
              "1          21  PRETTYGARDEN Womens Casual Bodycon Pockets   \n",
              "2          22  PRETTYGARDEN Womens Casual Bodycon Pockets   \n",
              "3          23  PRETTYGARDEN Womens Casual Bodycon Pockets   \n",
              "4          24  PRETTYGARDEN Womens Casual Bodycon Pockets   \n",
              "\n",
              "                  review_title  \\\n",
              "0                        Yes!!   \n",
              "1              Beautiful dress   \n",
              "2                Great fitting   \n",
              "3  Most comfortable dress ever   \n",
              "4                      Love it   \n",
              "\n",
              "                                             comment              rating  \\\n",
              "0  I received so many compliments on this dress! ...  5.0 out of 5 stars   \n",
              "1  I love this dress, wore it to an office and it...  5.0 out of 5 stars   \n",
              "2  It's very flattering, especially for girls wit...  5.0 out of 5 stars   \n",
              "3  This fit in all of the right places.  So flatt...  5.0 out of 5 stars   \n",
              "4  I love this dress so much I had to get it in r...  5.0 out of 5 stars   \n",
              "\n",
              "               date            username  \\\n",
              "0  February 9, 2023               Kedra   \n",
              "1  February 8, 2023  M. C. Miranda Leon   \n",
              "2  February 8, 2023              B Cast   \n",
              "3  February 7, 2023     Michele Smading   \n",
              "4  February 5, 2023       Octavia Davis   \n",
              "\n",
              "                                         profile_url  verified_purchase  \n",
              "0  https://amazon.com//gp/profile/amzn1.account.A...               True  \n",
              "1  https://amazon.com//gp/profile/amzn1.account.A...               True  \n",
              "2  https://amazon.com//gp/profile/amzn1.account.A...               True  \n",
              "3  https://amazon.com//gp/profile/amzn1.account.A...               True  \n",
              "4  https://amazon.com//gp/profile/amzn1.account.A...               True  "
            ],
            "text/html": [
              "\n",
              "  <div id=\"df-d7bf260c-889b-4b01-81bd-c5dcb321cf40\" class=\"colab-df-container\">\n",
              "    <div>\n",
              "<style scoped>\n",
              "    .dataframe tbody tr th:only-of-type {\n",
              "        vertical-align: middle;\n",
              "    }\n",
              "\n",
              "    .dataframe tbody tr th {\n",
              "        vertical-align: top;\n",
              "    }\n",
              "\n",
              "    .dataframe thead th {\n",
              "        text-align: right;\n",
              "    }\n",
              "</style>\n",
              "<table border=\"1\" class=\"dataframe\">\n",
              "  <thead>\n",
              "    <tr style=\"text-align: right;\">\n",
              "      <th></th>\n",
              "      <th>Unnamed: 0</th>\n",
              "      <th>product_name</th>\n",
              "      <th>review_title</th>\n",
              "      <th>comment</th>\n",
              "      <th>rating</th>\n",
              "      <th>date</th>\n",
              "      <th>username</th>\n",
              "      <th>profile_url</th>\n",
              "      <th>verified_purchase</th>\n",
              "    </tr>\n",
              "  </thead>\n",
              "  <tbody>\n",
              "    <tr>\n",
              "      <th>0</th>\n",
              "      <td>20</td>\n",
              "      <td>PRETTYGARDEN Womens Casual Bodycon Pockets</td>\n",
              "      <td>Yes!!</td>\n",
              "      <td>I received so many compliments on this dress! ...</td>\n",
              "      <td>5.0 out of 5 stars</td>\n",
              "      <td>February 9, 2023</td>\n",
              "      <td>Kedra</td>\n",
              "      <td>https://amazon.com//gp/profile/amzn1.account.A...</td>\n",
              "      <td>True</td>\n",
              "    </tr>\n",
              "    <tr>\n",
              "      <th>1</th>\n",
              "      <td>21</td>\n",
              "      <td>PRETTYGARDEN Womens Casual Bodycon Pockets</td>\n",
              "      <td>Beautiful dress</td>\n",
              "      <td>I love this dress, wore it to an office and it...</td>\n",
              "      <td>5.0 out of 5 stars</td>\n",
              "      <td>February 8, 2023</td>\n",
              "      <td>M. C. Miranda Leon</td>\n",
              "      <td>https://amazon.com//gp/profile/amzn1.account.A...</td>\n",
              "      <td>True</td>\n",
              "    </tr>\n",
              "    <tr>\n",
              "      <th>2</th>\n",
              "      <td>22</td>\n",
              "      <td>PRETTYGARDEN Womens Casual Bodycon Pockets</td>\n",
              "      <td>Great fitting</td>\n",
              "      <td>It's very flattering, especially for girls wit...</td>\n",
              "      <td>5.0 out of 5 stars</td>\n",
              "      <td>February 8, 2023</td>\n",
              "      <td>B Cast</td>\n",
              "      <td>https://amazon.com//gp/profile/amzn1.account.A...</td>\n",
              "      <td>True</td>\n",
              "    </tr>\n",
              "    <tr>\n",
              "      <th>3</th>\n",
              "      <td>23</td>\n",
              "      <td>PRETTYGARDEN Womens Casual Bodycon Pockets</td>\n",
              "      <td>Most comfortable dress ever</td>\n",
              "      <td>This fit in all of the right places.  So flatt...</td>\n",
              "      <td>5.0 out of 5 stars</td>\n",
              "      <td>February 7, 2023</td>\n",
              "      <td>Michele Smading</td>\n",
              "      <td>https://amazon.com//gp/profile/amzn1.account.A...</td>\n",
              "      <td>True</td>\n",
              "    </tr>\n",
              "    <tr>\n",
              "      <th>4</th>\n",
              "      <td>24</td>\n",
              "      <td>PRETTYGARDEN Womens Casual Bodycon Pockets</td>\n",
              "      <td>Love it</td>\n",
              "      <td>I love this dress so much I had to get it in r...</td>\n",
              "      <td>5.0 out of 5 stars</td>\n",
              "      <td>February 5, 2023</td>\n",
              "      <td>Octavia Davis</td>\n",
              "      <td>https://amazon.com//gp/profile/amzn1.account.A...</td>\n",
              "      <td>True</td>\n",
              "    </tr>\n",
              "  </tbody>\n",
              "</table>\n",
              "</div>\n",
              "    <div class=\"colab-df-buttons\">\n",
              "\n",
              "  <div class=\"colab-df-container\">\n",
              "    <button class=\"colab-df-convert\" onclick=\"convertToInteractive('df-d7bf260c-889b-4b01-81bd-c5dcb321cf40')\"\n",
              "            title=\"Convert this dataframe to an interactive table.\"\n",
              "            style=\"display:none;\">\n",
              "\n",
              "  <svg xmlns=\"http://www.w3.org/2000/svg\" height=\"24px\" viewBox=\"0 -960 960 960\">\n",
              "    <path d=\"M120-120v-720h720v720H120Zm60-500h600v-160H180v160Zm220 220h160v-160H400v160Zm0 220h160v-160H400v160ZM180-400h160v-160H180v160Zm440 0h160v-160H620v160ZM180-180h160v-160H180v160Zm440 0h160v-160H620v160Z\"/>\n",
              "  </svg>\n",
              "    </button>\n",
              "\n",
              "  <style>\n",
              "    .colab-df-container {\n",
              "      display:flex;\n",
              "      gap: 12px;\n",
              "    }\n",
              "\n",
              "    .colab-df-convert {\n",
              "      background-color: #E8F0FE;\n",
              "      border: none;\n",
              "      border-radius: 50%;\n",
              "      cursor: pointer;\n",
              "      display: none;\n",
              "      fill: #1967D2;\n",
              "      height: 32px;\n",
              "      padding: 0 0 0 0;\n",
              "      width: 32px;\n",
              "    }\n",
              "\n",
              "    .colab-df-convert:hover {\n",
              "      background-color: #E2EBFA;\n",
              "      box-shadow: 0px 1px 2px rgba(60, 64, 67, 0.3), 0px 1px 3px 1px rgba(60, 64, 67, 0.15);\n",
              "      fill: #174EA6;\n",
              "    }\n",
              "\n",
              "    .colab-df-buttons div {\n",
              "      margin-bottom: 4px;\n",
              "    }\n",
              "\n",
              "    [theme=dark] .colab-df-convert {\n",
              "      background-color: #3B4455;\n",
              "      fill: #D2E3FC;\n",
              "    }\n",
              "\n",
              "    [theme=dark] .colab-df-convert:hover {\n",
              "      background-color: #434B5C;\n",
              "      box-shadow: 0px 1px 3px 1px rgba(0, 0, 0, 0.15);\n",
              "      filter: drop-shadow(0px 1px 2px rgba(0, 0, 0, 0.3));\n",
              "      fill: #FFFFFF;\n",
              "    }\n",
              "  </style>\n",
              "\n",
              "    <script>\n",
              "      const buttonEl =\n",
              "        document.querySelector('#df-d7bf260c-889b-4b01-81bd-c5dcb321cf40 button.colab-df-convert');\n",
              "      buttonEl.style.display =\n",
              "        google.colab.kernel.accessAllowed ? 'block' : 'none';\n",
              "\n",
              "      async function convertToInteractive(key) {\n",
              "        const element = document.querySelector('#df-d7bf260c-889b-4b01-81bd-c5dcb321cf40');\n",
              "        const dataTable =\n",
              "          await google.colab.kernel.invokeFunction('convertToInteractive',\n",
              "                                                    [key], {});\n",
              "        if (!dataTable) return;\n",
              "\n",
              "        const docLinkHtml = 'Like what you see? Visit the ' +\n",
              "          '<a target=\"_blank\" href=https://colab.research.google.com/notebooks/data_table.ipynb>data table notebook</a>'\n",
              "          + ' to learn more about interactive tables.';\n",
              "        element.innerHTML = '';\n",
              "        dataTable['output_type'] = 'display_data';\n",
              "        await google.colab.output.renderOutput(dataTable, element);\n",
              "        const docLink = document.createElement('div');\n",
              "        docLink.innerHTML = docLinkHtml;\n",
              "        element.appendChild(docLink);\n",
              "      }\n",
              "    </script>\n",
              "  </div>\n",
              "\n",
              "\n",
              "<div id=\"df-36394866-cfcf-4a73-af3e-c4f8ccd41cec\">\n",
              "  <button class=\"colab-df-quickchart\" onclick=\"quickchart('df-36394866-cfcf-4a73-af3e-c4f8ccd41cec')\"\n",
              "            title=\"Suggest charts.\"\n",
              "            style=\"display:none;\">\n",
              "\n",
              "<svg xmlns=\"http://www.w3.org/2000/svg\" height=\"24px\"viewBox=\"0 0 24 24\"\n",
              "     width=\"24px\">\n",
              "    <g>\n",
              "        <path d=\"M19 3H5c-1.1 0-2 .9-2 2v14c0 1.1.9 2 2 2h14c1.1 0 2-.9 2-2V5c0-1.1-.9-2-2-2zM9 17H7v-7h2v7zm4 0h-2V7h2v10zm4 0h-2v-4h2v4z\"/>\n",
              "    </g>\n",
              "</svg>\n",
              "  </button>\n",
              "\n",
              "<style>\n",
              "  .colab-df-quickchart {\n",
              "      --bg-color: #E8F0FE;\n",
              "      --fill-color: #1967D2;\n",
              "      --hover-bg-color: #E2EBFA;\n",
              "      --hover-fill-color: #174EA6;\n",
              "      --disabled-fill-color: #AAA;\n",
              "      --disabled-bg-color: #DDD;\n",
              "  }\n",
              "\n",
              "  [theme=dark] .colab-df-quickchart {\n",
              "      --bg-color: #3B4455;\n",
              "      --fill-color: #D2E3FC;\n",
              "      --hover-bg-color: #434B5C;\n",
              "      --hover-fill-color: #FFFFFF;\n",
              "      --disabled-bg-color: #3B4455;\n",
              "      --disabled-fill-color: #666;\n",
              "  }\n",
              "\n",
              "  .colab-df-quickchart {\n",
              "    background-color: var(--bg-color);\n",
              "    border: none;\n",
              "    border-radius: 50%;\n",
              "    cursor: pointer;\n",
              "    display: none;\n",
              "    fill: var(--fill-color);\n",
              "    height: 32px;\n",
              "    padding: 0;\n",
              "    width: 32px;\n",
              "  }\n",
              "\n",
              "  .colab-df-quickchart:hover {\n",
              "    background-color: var(--hover-bg-color);\n",
              "    box-shadow: 0 1px 2px rgba(60, 64, 67, 0.3), 0 1px 3px 1px rgba(60, 64, 67, 0.15);\n",
              "    fill: var(--button-hover-fill-color);\n",
              "  }\n",
              "\n",
              "  .colab-df-quickchart-complete:disabled,\n",
              "  .colab-df-quickchart-complete:disabled:hover {\n",
              "    background-color: var(--disabled-bg-color);\n",
              "    fill: var(--disabled-fill-color);\n",
              "    box-shadow: none;\n",
              "  }\n",
              "\n",
              "  .colab-df-spinner {\n",
              "    border: 2px solid var(--fill-color);\n",
              "    border-color: transparent;\n",
              "    border-bottom-color: var(--fill-color);\n",
              "    animation:\n",
              "      spin 1s steps(1) infinite;\n",
              "  }\n",
              "\n",
              "  @keyframes spin {\n",
              "    0% {\n",
              "      border-color: transparent;\n",
              "      border-bottom-color: var(--fill-color);\n",
              "      border-left-color: var(--fill-color);\n",
              "    }\n",
              "    20% {\n",
              "      border-color: transparent;\n",
              "      border-left-color: var(--fill-color);\n",
              "      border-top-color: var(--fill-color);\n",
              "    }\n",
              "    30% {\n",
              "      border-color: transparent;\n",
              "      border-left-color: var(--fill-color);\n",
              "      border-top-color: var(--fill-color);\n",
              "      border-right-color: var(--fill-color);\n",
              "    }\n",
              "    40% {\n",
              "      border-color: transparent;\n",
              "      border-right-color: var(--fill-color);\n",
              "      border-top-color: var(--fill-color);\n",
              "    }\n",
              "    60% {\n",
              "      border-color: transparent;\n",
              "      border-right-color: var(--fill-color);\n",
              "    }\n",
              "    80% {\n",
              "      border-color: transparent;\n",
              "      border-right-color: var(--fill-color);\n",
              "      border-bottom-color: var(--fill-color);\n",
              "    }\n",
              "    90% {\n",
              "      border-color: transparent;\n",
              "      border-bottom-color: var(--fill-color);\n",
              "    }\n",
              "  }\n",
              "</style>\n",
              "\n",
              "  <script>\n",
              "    async function quickchart(key) {\n",
              "      const quickchartButtonEl =\n",
              "        document.querySelector('#' + key + ' button');\n",
              "      quickchartButtonEl.disabled = true;  // To prevent multiple clicks.\n",
              "      quickchartButtonEl.classList.add('colab-df-spinner');\n",
              "      try {\n",
              "        const charts = await google.colab.kernel.invokeFunction(\n",
              "            'suggestCharts', [key], {});\n",
              "      } catch (error) {\n",
              "        console.error('Error during call to suggestCharts:', error);\n",
              "      }\n",
              "      quickchartButtonEl.classList.remove('colab-df-spinner');\n",
              "      quickchartButtonEl.classList.add('colab-df-quickchart-complete');\n",
              "    }\n",
              "    (() => {\n",
              "      let quickchartButtonEl =\n",
              "        document.querySelector('#df-36394866-cfcf-4a73-af3e-c4f8ccd41cec button');\n",
              "      quickchartButtonEl.style.display =\n",
              "        google.colab.kernel.accessAllowed ? 'block' : 'none';\n",
              "    })();\n",
              "  </script>\n",
              "</div>\n",
              "    </div>\n",
              "  </div>\n"
            ]
          },
          "metadata": {},
          "execution_count": 57
        }
      ],
      "source": [
        "df = pd.read_csv('/content/drive/MyDrive/Final Dataset.csv')\n",
        "df.head()"
      ]
    },
    {
      "cell_type": "code",
      "execution_count": null,
      "metadata": {
        "colab": {
          "base_uri": "https://localhost:8080/"
        },
        "id": "f7FIL1cHrTOq",
        "outputId": "2a26f1eb-00a0-4a75-f1f7-ddfd961fe6bd"
      },
      "outputs": [
        {
          "output_type": "execute_result",
          "data": {
            "text/plain": [
              "(23910, 9)"
            ]
          },
          "metadata": {},
          "execution_count": 58
        }
      ],
      "source": [
        "df.shape"
      ]
    },
    {
      "cell_type": "code",
      "execution_count": null,
      "metadata": {
        "colab": {
          "base_uri": "https://localhost:8080/"
        },
        "id": "m9loGAH2iqkV",
        "outputId": "3bece0bf-1c5e-4c52-8a2e-e3544f332732"
      },
      "outputs": [
        {
          "output_type": "execute_result",
          "data": {
            "text/plain": [
              "(23910, 7)"
            ]
          },
          "metadata": {},
          "execution_count": 59
        }
      ],
      "source": [
        "df = df.drop(['Unnamed: 0'], axis=1)\n",
        "df = df.drop(['date'], axis=1)\n",
        "\n",
        "df.shape"
      ]
    },
    {
      "cell_type": "code",
      "execution_count": null,
      "metadata": {
        "id": "JAbOW5BViqmB"
      },
      "outputs": [],
      "source": [
        "df['Rating'] = np.where(df['rating'] == '3.0 out of 5 stars', '3.0',\n",
        "               np.where(df['rating'] == '1.0 out of 5 stars', '1.0',\n",
        "               np.where(df['rating'] == '2.0 out of 5 stars', '2.0',\n",
        "               np.where(df['rating'] == '4.0 out of 5 stars', '4.0',\n",
        "               np.where(df['rating'] == '5.0 out of 5 stars', '5.0','none')))))"
      ]
    },
    {
      "cell_type": "code",
      "execution_count": null,
      "metadata": {
        "colab": {
          "base_uri": "https://localhost:8080/"
        },
        "id": "HSNnEHpajFxh",
        "outputId": "1bdb47fb-90d1-434f-b888-bb827fc1d6de"
      },
      "outputs": [
        {
          "output_type": "stream",
          "name": "stdout",
          "text": [
            "product_name          object\n",
            "review_title          object\n",
            "comment               object\n",
            "rating                object\n",
            "username              object\n",
            "profile_url           object\n",
            "verified_purchase       bool\n",
            "Rating               float64\n",
            "dtype: object\n"
          ]
        }
      ],
      "source": [
        "#convert the rating from object to integer type\n",
        "df = df.astype({'Rating':'float'})\n",
        "print(df.dtypes)"
      ]
    },
    {
      "cell_type": "code",
      "execution_count": null,
      "metadata": {
        "id": "Y1IKqwPLiqon"
      },
      "outputs": [],
      "source": [
        "df['Rating'] = np.where((df['Rating']<3), 0, df.Rating)\n",
        "df['Rating'] = np.where((df['Rating']>=3), 1, df.Rating)"
      ]
    },
    {
      "cell_type": "code",
      "execution_count": null,
      "metadata": {
        "id": "cFb0vzaUjI51"
      },
      "outputs": [],
      "source": [
        "# #split data-set to train and test\n",
        "\n",
        "X = df['comment']\n",
        "y = df['Rating']\n",
        "\n",
        "X_train, X_test, Y_train, Y_test = train_test_split(X, y, test_size = 0.4, random_state=0)"
      ]
    },
    {
      "cell_type": "code",
      "execution_count": null,
      "metadata": {
        "id": "jLRCo9RvjI-8"
      },
      "outputs": [],
      "source": [
        "# to remove special characters and numbers from the comment\n",
        "df['comment'] = df['comment'].str.replace('\\W', '', regex=True)"
      ]
    },
    {
      "cell_type": "code",
      "execution_count": null,
      "metadata": {
        "id": "lHKZmBOQuaQI"
      },
      "outputs": [],
      "source": [
        "# to convert all reviews into lower case\n",
        "df['comment'] = df['comment'].str.lower()"
      ]
    },
    {
      "cell_type": "code",
      "execution_count": null,
      "metadata": {
        "colab": {
          "base_uri": "https://localhost:8080/",
          "height": 878
        },
        "id": "sDbWXdz6s2zU",
        "outputId": "5dcf4402-9b1d-45da-9654-14cab0ca6fd1"
      },
      "outputs": [
        {
          "output_type": "execute_result",
          "data": {
            "text/plain": [
              "                                     product_name  \\\n",
              "0      PRETTYGARDEN Womens Casual Bodycon Pockets   \n",
              "1      PRETTYGARDEN Womens Casual Bodycon Pockets   \n",
              "2      PRETTYGARDEN Womens Casual Bodycon Pockets   \n",
              "3      PRETTYGARDEN Womens Casual Bodycon Pockets   \n",
              "4      PRETTYGARDEN Womens Casual Bodycon Pockets   \n",
              "...                                           ...   \n",
              "23905     TOZO T6 Bluetooth Headphones Waterproof   \n",
              "23906     TOZO T6 Bluetooth Headphones Waterproof   \n",
              "23907     TOZO T6 Bluetooth Headphones Waterproof   \n",
              "23908     TOZO T6 Bluetooth Headphones Waterproof   \n",
              "23909     TOZO T6 Bluetooth Headphones Waterproof   \n",
              "\n",
              "                                review_title  \\\n",
              "0                                      Yes!!   \n",
              "1                            Beautiful dress   \n",
              "2                              Great fitting   \n",
              "3                Most comfortable dress ever   \n",
              "4                                    Love it   \n",
              "...                                      ...   \n",
              "23905               Second time I've orderec   \n",
              "23906  Excellent sound and long battery life   \n",
              "23907                                  So so   \n",
              "23908               I only have 2 complaints   \n",
              "23909                            Worthy wear   \n",
              "\n",
              "                                                 comment              rating  \\\n",
              "0      ireceivedsomanycomplimentsonthisdressfitswellm...  5.0 out of 5 stars   \n",
              "1      ilovethisdressworeittoanofficeanditwasahititfi...  5.0 out of 5 stars   \n",
              "2      itsveryflatteringespeciallyforgirlswithcurvest...  5.0 out of 5 stars   \n",
              "3      thisfitinalloftherightplacessoflatteningthebes...  5.0 out of 5 stars   \n",
              "4      ilovethisdresssomuchihadtogetitinredworeittomy...  5.0 out of 5 stars   \n",
              "...                                                  ...                 ...   \n",
              "23905                                     theseworkgreat  5.0 out of 5 stars   \n",
              "23906  verynicequalitybeforeyoueventaketheheadphoneso...  5.0 out of 5 stars   \n",
              "23907  whileilovetheseearbudsandthesoundtheyputoutand...  3.0 out of 5 stars   \n",
              "23908  theearbudsthemselvesworkgreattheyfitwellandthe...  4.0 out of 5 stars   \n",
              "23909  thisisthesecondtimeiveorderedthisitemitswortht...  5.0 out of 5 stars   \n",
              "\n",
              "                 username                                        profile_url  \\\n",
              "0                   Kedra  https://amazon.com//gp/profile/amzn1.account.A...   \n",
              "1      M. C. Miranda Leon  https://amazon.com//gp/profile/amzn1.account.A...   \n",
              "2                  B Cast  https://amazon.com//gp/profile/amzn1.account.A...   \n",
              "3         Michele Smading  https://amazon.com//gp/profile/amzn1.account.A...   \n",
              "4           Octavia Davis  https://amazon.com//gp/profile/amzn1.account.A...   \n",
              "...                   ...                                                ...   \n",
              "23905          Lynn Maple  https://amazon.com//gp/profile/amzn1.account.A...   \n",
              "23906        Rick Dorsino  https://amazon.com//gp/profile/amzn1.account.A...   \n",
              "23907         Abiah Crain  https://amazon.com//gp/profile/amzn1.account.A...   \n",
              "23908     Ashley Calloway  https://amazon.com//gp/profile/amzn1.account.A...   \n",
              "23909               Norma  https://amazon.com//gp/profile/amzn1.account.A...   \n",
              "\n",
              "       verified_purchase  Rating  \n",
              "0                   True     1.0  \n",
              "1                   True     1.0  \n",
              "2                   True     1.0  \n",
              "3                   True     1.0  \n",
              "4                   True     1.0  \n",
              "...                  ...     ...  \n",
              "23905               True     1.0  \n",
              "23906               True     1.0  \n",
              "23907               True     1.0  \n",
              "23908               True     1.0  \n",
              "23909               True     1.0  \n",
              "\n",
              "[23910 rows x 8 columns]"
            ],
            "text/html": [
              "\n",
              "  <div id=\"df-beea5738-479d-4a56-81bd-6e938e14ad2d\" class=\"colab-df-container\">\n",
              "    <div>\n",
              "<style scoped>\n",
              "    .dataframe tbody tr th:only-of-type {\n",
              "        vertical-align: middle;\n",
              "    }\n",
              "\n",
              "    .dataframe tbody tr th {\n",
              "        vertical-align: top;\n",
              "    }\n",
              "\n",
              "    .dataframe thead th {\n",
              "        text-align: right;\n",
              "    }\n",
              "</style>\n",
              "<table border=\"1\" class=\"dataframe\">\n",
              "  <thead>\n",
              "    <tr style=\"text-align: right;\">\n",
              "      <th></th>\n",
              "      <th>product_name</th>\n",
              "      <th>review_title</th>\n",
              "      <th>comment</th>\n",
              "      <th>rating</th>\n",
              "      <th>username</th>\n",
              "      <th>profile_url</th>\n",
              "      <th>verified_purchase</th>\n",
              "      <th>Rating</th>\n",
              "    </tr>\n",
              "  </thead>\n",
              "  <tbody>\n",
              "    <tr>\n",
              "      <th>0</th>\n",
              "      <td>PRETTYGARDEN Womens Casual Bodycon Pockets</td>\n",
              "      <td>Yes!!</td>\n",
              "      <td>ireceivedsomanycomplimentsonthisdressfitswellm...</td>\n",
              "      <td>5.0 out of 5 stars</td>\n",
              "      <td>Kedra</td>\n",
              "      <td>https://amazon.com//gp/profile/amzn1.account.A...</td>\n",
              "      <td>True</td>\n",
              "      <td>1.0</td>\n",
              "    </tr>\n",
              "    <tr>\n",
              "      <th>1</th>\n",
              "      <td>PRETTYGARDEN Womens Casual Bodycon Pockets</td>\n",
              "      <td>Beautiful dress</td>\n",
              "      <td>ilovethisdressworeittoanofficeanditwasahititfi...</td>\n",
              "      <td>5.0 out of 5 stars</td>\n",
              "      <td>M. C. Miranda Leon</td>\n",
              "      <td>https://amazon.com//gp/profile/amzn1.account.A...</td>\n",
              "      <td>True</td>\n",
              "      <td>1.0</td>\n",
              "    </tr>\n",
              "    <tr>\n",
              "      <th>2</th>\n",
              "      <td>PRETTYGARDEN Womens Casual Bodycon Pockets</td>\n",
              "      <td>Great fitting</td>\n",
              "      <td>itsveryflatteringespeciallyforgirlswithcurvest...</td>\n",
              "      <td>5.0 out of 5 stars</td>\n",
              "      <td>B Cast</td>\n",
              "      <td>https://amazon.com//gp/profile/amzn1.account.A...</td>\n",
              "      <td>True</td>\n",
              "      <td>1.0</td>\n",
              "    </tr>\n",
              "    <tr>\n",
              "      <th>3</th>\n",
              "      <td>PRETTYGARDEN Womens Casual Bodycon Pockets</td>\n",
              "      <td>Most comfortable dress ever</td>\n",
              "      <td>thisfitinalloftherightplacessoflatteningthebes...</td>\n",
              "      <td>5.0 out of 5 stars</td>\n",
              "      <td>Michele Smading</td>\n",
              "      <td>https://amazon.com//gp/profile/amzn1.account.A...</td>\n",
              "      <td>True</td>\n",
              "      <td>1.0</td>\n",
              "    </tr>\n",
              "    <tr>\n",
              "      <th>4</th>\n",
              "      <td>PRETTYGARDEN Womens Casual Bodycon Pockets</td>\n",
              "      <td>Love it</td>\n",
              "      <td>ilovethisdresssomuchihadtogetitinredworeittomy...</td>\n",
              "      <td>5.0 out of 5 stars</td>\n",
              "      <td>Octavia Davis</td>\n",
              "      <td>https://amazon.com//gp/profile/amzn1.account.A...</td>\n",
              "      <td>True</td>\n",
              "      <td>1.0</td>\n",
              "    </tr>\n",
              "    <tr>\n",
              "      <th>...</th>\n",
              "      <td>...</td>\n",
              "      <td>...</td>\n",
              "      <td>...</td>\n",
              "      <td>...</td>\n",
              "      <td>...</td>\n",
              "      <td>...</td>\n",
              "      <td>...</td>\n",
              "      <td>...</td>\n",
              "    </tr>\n",
              "    <tr>\n",
              "      <th>23905</th>\n",
              "      <td>TOZO T6 Bluetooth Headphones Waterproof</td>\n",
              "      <td>Second time I've orderec</td>\n",
              "      <td>theseworkgreat</td>\n",
              "      <td>5.0 out of 5 stars</td>\n",
              "      <td>Lynn Maple</td>\n",
              "      <td>https://amazon.com//gp/profile/amzn1.account.A...</td>\n",
              "      <td>True</td>\n",
              "      <td>1.0</td>\n",
              "    </tr>\n",
              "    <tr>\n",
              "      <th>23906</th>\n",
              "      <td>TOZO T6 Bluetooth Headphones Waterproof</td>\n",
              "      <td>Excellent sound and long battery life</td>\n",
              "      <td>verynicequalitybeforeyoueventaketheheadphoneso...</td>\n",
              "      <td>5.0 out of 5 stars</td>\n",
              "      <td>Rick Dorsino</td>\n",
              "      <td>https://amazon.com//gp/profile/amzn1.account.A...</td>\n",
              "      <td>True</td>\n",
              "      <td>1.0</td>\n",
              "    </tr>\n",
              "    <tr>\n",
              "      <th>23907</th>\n",
              "      <td>TOZO T6 Bluetooth Headphones Waterproof</td>\n",
              "      <td>So so</td>\n",
              "      <td>whileilovetheseearbudsandthesoundtheyputoutand...</td>\n",
              "      <td>3.0 out of 5 stars</td>\n",
              "      <td>Abiah Crain</td>\n",
              "      <td>https://amazon.com//gp/profile/amzn1.account.A...</td>\n",
              "      <td>True</td>\n",
              "      <td>1.0</td>\n",
              "    </tr>\n",
              "    <tr>\n",
              "      <th>23908</th>\n",
              "      <td>TOZO T6 Bluetooth Headphones Waterproof</td>\n",
              "      <td>I only have 2 complaints</td>\n",
              "      <td>theearbudsthemselvesworkgreattheyfitwellandthe...</td>\n",
              "      <td>4.0 out of 5 stars</td>\n",
              "      <td>Ashley Calloway</td>\n",
              "      <td>https://amazon.com//gp/profile/amzn1.account.A...</td>\n",
              "      <td>True</td>\n",
              "      <td>1.0</td>\n",
              "    </tr>\n",
              "    <tr>\n",
              "      <th>23909</th>\n",
              "      <td>TOZO T6 Bluetooth Headphones Waterproof</td>\n",
              "      <td>Worthy wear</td>\n",
              "      <td>thisisthesecondtimeiveorderedthisitemitswortht...</td>\n",
              "      <td>5.0 out of 5 stars</td>\n",
              "      <td>Norma</td>\n",
              "      <td>https://amazon.com//gp/profile/amzn1.account.A...</td>\n",
              "      <td>True</td>\n",
              "      <td>1.0</td>\n",
              "    </tr>\n",
              "  </tbody>\n",
              "</table>\n",
              "<p>23910 rows × 8 columns</p>\n",
              "</div>\n",
              "    <div class=\"colab-df-buttons\">\n",
              "\n",
              "  <div class=\"colab-df-container\">\n",
              "    <button class=\"colab-df-convert\" onclick=\"convertToInteractive('df-beea5738-479d-4a56-81bd-6e938e14ad2d')\"\n",
              "            title=\"Convert this dataframe to an interactive table.\"\n",
              "            style=\"display:none;\">\n",
              "\n",
              "  <svg xmlns=\"http://www.w3.org/2000/svg\" height=\"24px\" viewBox=\"0 -960 960 960\">\n",
              "    <path d=\"M120-120v-720h720v720H120Zm60-500h600v-160H180v160Zm220 220h160v-160H400v160Zm0 220h160v-160H400v160ZM180-400h160v-160H180v160Zm440 0h160v-160H620v160ZM180-180h160v-160H180v160Zm440 0h160v-160H620v160Z\"/>\n",
              "  </svg>\n",
              "    </button>\n",
              "\n",
              "  <style>\n",
              "    .colab-df-container {\n",
              "      display:flex;\n",
              "      gap: 12px;\n",
              "    }\n",
              "\n",
              "    .colab-df-convert {\n",
              "      background-color: #E8F0FE;\n",
              "      border: none;\n",
              "      border-radius: 50%;\n",
              "      cursor: pointer;\n",
              "      display: none;\n",
              "      fill: #1967D2;\n",
              "      height: 32px;\n",
              "      padding: 0 0 0 0;\n",
              "      width: 32px;\n",
              "    }\n",
              "\n",
              "    .colab-df-convert:hover {\n",
              "      background-color: #E2EBFA;\n",
              "      box-shadow: 0px 1px 2px rgba(60, 64, 67, 0.3), 0px 1px 3px 1px rgba(60, 64, 67, 0.15);\n",
              "      fill: #174EA6;\n",
              "    }\n",
              "\n",
              "    .colab-df-buttons div {\n",
              "      margin-bottom: 4px;\n",
              "    }\n",
              "\n",
              "    [theme=dark] .colab-df-convert {\n",
              "      background-color: #3B4455;\n",
              "      fill: #D2E3FC;\n",
              "    }\n",
              "\n",
              "    [theme=dark] .colab-df-convert:hover {\n",
              "      background-color: #434B5C;\n",
              "      box-shadow: 0px 1px 3px 1px rgba(0, 0, 0, 0.15);\n",
              "      filter: drop-shadow(0px 1px 2px rgba(0, 0, 0, 0.3));\n",
              "      fill: #FFFFFF;\n",
              "    }\n",
              "  </style>\n",
              "\n",
              "    <script>\n",
              "      const buttonEl =\n",
              "        document.querySelector('#df-beea5738-479d-4a56-81bd-6e938e14ad2d button.colab-df-convert');\n",
              "      buttonEl.style.display =\n",
              "        google.colab.kernel.accessAllowed ? 'block' : 'none';\n",
              "\n",
              "      async function convertToInteractive(key) {\n",
              "        const element = document.querySelector('#df-beea5738-479d-4a56-81bd-6e938e14ad2d');\n",
              "        const dataTable =\n",
              "          await google.colab.kernel.invokeFunction('convertToInteractive',\n",
              "                                                    [key], {});\n",
              "        if (!dataTable) return;\n",
              "\n",
              "        const docLinkHtml = 'Like what you see? Visit the ' +\n",
              "          '<a target=\"_blank\" href=https://colab.research.google.com/notebooks/data_table.ipynb>data table notebook</a>'\n",
              "          + ' to learn more about interactive tables.';\n",
              "        element.innerHTML = '';\n",
              "        dataTable['output_type'] = 'display_data';\n",
              "        await google.colab.output.renderOutput(dataTable, element);\n",
              "        const docLink = document.createElement('div');\n",
              "        docLink.innerHTML = docLinkHtml;\n",
              "        element.appendChild(docLink);\n",
              "      }\n",
              "    </script>\n",
              "  </div>\n",
              "\n",
              "\n",
              "<div id=\"df-1afc7df0-3c2a-43dd-b3dd-922aab307663\">\n",
              "  <button class=\"colab-df-quickchart\" onclick=\"quickchart('df-1afc7df0-3c2a-43dd-b3dd-922aab307663')\"\n",
              "            title=\"Suggest charts.\"\n",
              "            style=\"display:none;\">\n",
              "\n",
              "<svg xmlns=\"http://www.w3.org/2000/svg\" height=\"24px\"viewBox=\"0 0 24 24\"\n",
              "     width=\"24px\">\n",
              "    <g>\n",
              "        <path d=\"M19 3H5c-1.1 0-2 .9-2 2v14c0 1.1.9 2 2 2h14c1.1 0 2-.9 2-2V5c0-1.1-.9-2-2-2zM9 17H7v-7h2v7zm4 0h-2V7h2v10zm4 0h-2v-4h2v4z\"/>\n",
              "    </g>\n",
              "</svg>\n",
              "  </button>\n",
              "\n",
              "<style>\n",
              "  .colab-df-quickchart {\n",
              "      --bg-color: #E8F0FE;\n",
              "      --fill-color: #1967D2;\n",
              "      --hover-bg-color: #E2EBFA;\n",
              "      --hover-fill-color: #174EA6;\n",
              "      --disabled-fill-color: #AAA;\n",
              "      --disabled-bg-color: #DDD;\n",
              "  }\n",
              "\n",
              "  [theme=dark] .colab-df-quickchart {\n",
              "      --bg-color: #3B4455;\n",
              "      --fill-color: #D2E3FC;\n",
              "      --hover-bg-color: #434B5C;\n",
              "      --hover-fill-color: #FFFFFF;\n",
              "      --disabled-bg-color: #3B4455;\n",
              "      --disabled-fill-color: #666;\n",
              "  }\n",
              "\n",
              "  .colab-df-quickchart {\n",
              "    background-color: var(--bg-color);\n",
              "    border: none;\n",
              "    border-radius: 50%;\n",
              "    cursor: pointer;\n",
              "    display: none;\n",
              "    fill: var(--fill-color);\n",
              "    height: 32px;\n",
              "    padding: 0;\n",
              "    width: 32px;\n",
              "  }\n",
              "\n",
              "  .colab-df-quickchart:hover {\n",
              "    background-color: var(--hover-bg-color);\n",
              "    box-shadow: 0 1px 2px rgba(60, 64, 67, 0.3), 0 1px 3px 1px rgba(60, 64, 67, 0.15);\n",
              "    fill: var(--button-hover-fill-color);\n",
              "  }\n",
              "\n",
              "  .colab-df-quickchart-complete:disabled,\n",
              "  .colab-df-quickchart-complete:disabled:hover {\n",
              "    background-color: var(--disabled-bg-color);\n",
              "    fill: var(--disabled-fill-color);\n",
              "    box-shadow: none;\n",
              "  }\n",
              "\n",
              "  .colab-df-spinner {\n",
              "    border: 2px solid var(--fill-color);\n",
              "    border-color: transparent;\n",
              "    border-bottom-color: var(--fill-color);\n",
              "    animation:\n",
              "      spin 1s steps(1) infinite;\n",
              "  }\n",
              "\n",
              "  @keyframes spin {\n",
              "    0% {\n",
              "      border-color: transparent;\n",
              "      border-bottom-color: var(--fill-color);\n",
              "      border-left-color: var(--fill-color);\n",
              "    }\n",
              "    20% {\n",
              "      border-color: transparent;\n",
              "      border-left-color: var(--fill-color);\n",
              "      border-top-color: var(--fill-color);\n",
              "    }\n",
              "    30% {\n",
              "      border-color: transparent;\n",
              "      border-left-color: var(--fill-color);\n",
              "      border-top-color: var(--fill-color);\n",
              "      border-right-color: var(--fill-color);\n",
              "    }\n",
              "    40% {\n",
              "      border-color: transparent;\n",
              "      border-right-color: var(--fill-color);\n",
              "      border-top-color: var(--fill-color);\n",
              "    }\n",
              "    60% {\n",
              "      border-color: transparent;\n",
              "      border-right-color: var(--fill-color);\n",
              "    }\n",
              "    80% {\n",
              "      border-color: transparent;\n",
              "      border-right-color: var(--fill-color);\n",
              "      border-bottom-color: var(--fill-color);\n",
              "    }\n",
              "    90% {\n",
              "      border-color: transparent;\n",
              "      border-bottom-color: var(--fill-color);\n",
              "    }\n",
              "  }\n",
              "</style>\n",
              "\n",
              "  <script>\n",
              "    async function quickchart(key) {\n",
              "      const quickchartButtonEl =\n",
              "        document.querySelector('#' + key + ' button');\n",
              "      quickchartButtonEl.disabled = true;  // To prevent multiple clicks.\n",
              "      quickchartButtonEl.classList.add('colab-df-spinner');\n",
              "      try {\n",
              "        const charts = await google.colab.kernel.invokeFunction(\n",
              "            'suggestCharts', [key], {});\n",
              "      } catch (error) {\n",
              "        console.error('Error during call to suggestCharts:', error);\n",
              "      }\n",
              "      quickchartButtonEl.classList.remove('colab-df-spinner');\n",
              "      quickchartButtonEl.classList.add('colab-df-quickchart-complete');\n",
              "    }\n",
              "    (() => {\n",
              "      let quickchartButtonEl =\n",
              "        document.querySelector('#df-1afc7df0-3c2a-43dd-b3dd-922aab307663 button');\n",
              "      quickchartButtonEl.style.display =\n",
              "        google.colab.kernel.accessAllowed ? 'block' : 'none';\n",
              "    })();\n",
              "  </script>\n",
              "</div>\n",
              "    </div>\n",
              "  </div>\n"
            ]
          },
          "metadata": {},
          "execution_count": 66
        }
      ],
      "source": [
        "df"
      ]
    },
    {
      "cell_type": "code",
      "execution_count": null,
      "metadata": {
        "id": "8WdmGzEsiqtJ"
      },
      "outputs": [],
      "source": [
        "# function to remove stop words from the reviews\n",
        "def removeStopWords(raw_text):\n",
        "    stops = set(stopwords.words(\"english\"))\n",
        "    words = [w for w in raw_text if not w in stops]\n",
        "    return( \" \".join(words))"
      ]
    },
    {
      "cell_type": "code",
      "execution_count": null,
      "metadata": {
        "colab": {
          "base_uri": "https://localhost:8080/"
        },
        "id": "fvbeYYCVkNy5",
        "outputId": "70e4b187-67a2-4e8f-d63e-1255a9ba24ff"
      },
      "outputs": [
        {
          "output_type": "stream",
          "name": "stderr",
          "text": [
            "[nltk_data] Downloading package stopwords to /root/nltk_data...\n",
            "[nltk_data]   Package stopwords is already up-to-date!\n"
          ]
        },
        {
          "output_type": "execute_result",
          "data": {
            "text/plain": [
              "True"
            ]
          },
          "metadata": {},
          "execution_count": 68
        }
      ],
      "source": [
        "import nltk\n",
        "nltk.download('stopwords')"
      ]
    },
    {
      "cell_type": "code",
      "execution_count": null,
      "metadata": {
        "id": "5mEO9fSuiqwD"
      },
      "outputs": [],
      "source": [
        "# X_training clean set\n",
        "X_train_cleaned = []\n",
        "\n",
        "for val in X_train:\n",
        "    removeStopWords(val)\n",
        "    X_train_cleaned.append(val)"
      ]
    },
    {
      "cell_type": "code",
      "execution_count": null,
      "metadata": {
        "id": "rJU2G0wziqyp"
      },
      "outputs": [],
      "source": [
        "# X_testing clean set\n",
        "X_test_cleaned = []\n",
        "\n",
        "for val in X_test:\n",
        "    removeStopWords(val)\n",
        "    X_test_cleaned.append(val)"
      ]
    },
    {
      "cell_type": "code",
      "execution_count": null,
      "metadata": {
        "id": "a2FiKvIhiq1A"
      },
      "outputs": [],
      "source": [
        "# Convert a collection of raw documents to a matrix of TF-IDF features. This is required so as to train the model using features instead of\n",
        "# raw strings.\n",
        "tvec = TfidfVectorizer(use_idf=True,\n",
        "strip_accents='ascii')\n",
        "\n",
        "X_train_tvec = tvec.fit_transform(X_train_cleaned)"
      ]
    },
    {
      "cell_type": "code",
      "execution_count": null,
      "metadata": {
        "colab": {
          "base_uri": "https://localhost:8080/"
        },
        "id": "uAdJ1fo5x5_g",
        "outputId": "9b9baef8-6d3b-456f-fd82-df2d7dc82317"
      },
      "outputs": [
        {
          "output_type": "execute_result",
          "data": {
            "text/plain": [
              "<14346x14242 sparse matrix of type '<class 'numpy.float64'>'\n",
              "\twith 374812 stored elements in Compressed Sparse Row format>"
            ]
          },
          "metadata": {},
          "execution_count": 72
        }
      ],
      "source": [
        "X_train_tvec"
      ]
    },
    {
      "cell_type": "markdown",
      "metadata": {
        "id": "li6xucm_kqHm"
      },
      "source": [
        "Support Vector Classifier model"
      ]
    },
    {
      "cell_type": "code",
      "execution_count": null,
      "metadata": {
        "colab": {
          "base_uri": "https://localhost:8080/",
          "height": 75
        },
        "id": "LmzejWL1iq2p",
        "outputId": "d78d97dc-46ce-47a8-fd05-abcbe5e3a32d"
      },
      "outputs": [
        {
          "output_type": "execute_result",
          "data": {
            "text/plain": [
              "LinearSVC(dual=False)"
            ],
            "text/html": [
              "<style>#sk-container-id-6 {color: black;background-color: white;}#sk-container-id-6 pre{padding: 0;}#sk-container-id-6 div.sk-toggleable {background-color: white;}#sk-container-id-6 label.sk-toggleable__label {cursor: pointer;display: block;width: 100%;margin-bottom: 0;padding: 0.3em;box-sizing: border-box;text-align: center;}#sk-container-id-6 label.sk-toggleable__label-arrow:before {content: \"▸\";float: left;margin-right: 0.25em;color: #696969;}#sk-container-id-6 label.sk-toggleable__label-arrow:hover:before {color: black;}#sk-container-id-6 div.sk-estimator:hover label.sk-toggleable__label-arrow:before {color: black;}#sk-container-id-6 div.sk-toggleable__content {max-height: 0;max-width: 0;overflow: hidden;text-align: left;background-color: #f0f8ff;}#sk-container-id-6 div.sk-toggleable__content pre {margin: 0.2em;color: black;border-radius: 0.25em;background-color: #f0f8ff;}#sk-container-id-6 input.sk-toggleable__control:checked~div.sk-toggleable__content {max-height: 200px;max-width: 100%;overflow: auto;}#sk-container-id-6 input.sk-toggleable__control:checked~label.sk-toggleable__label-arrow:before {content: \"▾\";}#sk-container-id-6 div.sk-estimator input.sk-toggleable__control:checked~label.sk-toggleable__label {background-color: #d4ebff;}#sk-container-id-6 div.sk-label input.sk-toggleable__control:checked~label.sk-toggleable__label {background-color: #d4ebff;}#sk-container-id-6 input.sk-hidden--visually {border: 0;clip: rect(1px 1px 1px 1px);clip: rect(1px, 1px, 1px, 1px);height: 1px;margin: -1px;overflow: hidden;padding: 0;position: absolute;width: 1px;}#sk-container-id-6 div.sk-estimator {font-family: monospace;background-color: #f0f8ff;border: 1px dotted black;border-radius: 0.25em;box-sizing: border-box;margin-bottom: 0.5em;}#sk-container-id-6 div.sk-estimator:hover {background-color: #d4ebff;}#sk-container-id-6 div.sk-parallel-item::after {content: \"\";width: 100%;border-bottom: 1px solid gray;flex-grow: 1;}#sk-container-id-6 div.sk-label:hover label.sk-toggleable__label {background-color: #d4ebff;}#sk-container-id-6 div.sk-serial::before {content: \"\";position: absolute;border-left: 1px solid gray;box-sizing: border-box;top: 0;bottom: 0;left: 50%;z-index: 0;}#sk-container-id-6 div.sk-serial {display: flex;flex-direction: column;align-items: center;background-color: white;padding-right: 0.2em;padding-left: 0.2em;position: relative;}#sk-container-id-6 div.sk-item {position: relative;z-index: 1;}#sk-container-id-6 div.sk-parallel {display: flex;align-items: stretch;justify-content: center;background-color: white;position: relative;}#sk-container-id-6 div.sk-item::before, #sk-container-id-6 div.sk-parallel-item::before {content: \"\";position: absolute;border-left: 1px solid gray;box-sizing: border-box;top: 0;bottom: 0;left: 50%;z-index: -1;}#sk-container-id-6 div.sk-parallel-item {display: flex;flex-direction: column;z-index: 1;position: relative;background-color: white;}#sk-container-id-6 div.sk-parallel-item:first-child::after {align-self: flex-end;width: 50%;}#sk-container-id-6 div.sk-parallel-item:last-child::after {align-self: flex-start;width: 50%;}#sk-container-id-6 div.sk-parallel-item:only-child::after {width: 0;}#sk-container-id-6 div.sk-dashed-wrapped {border: 1px dashed gray;margin: 0 0.4em 0.5em 0.4em;box-sizing: border-box;padding-bottom: 0.4em;background-color: white;}#sk-container-id-6 div.sk-label label {font-family: monospace;font-weight: bold;display: inline-block;line-height: 1.2em;}#sk-container-id-6 div.sk-label-container {text-align: center;}#sk-container-id-6 div.sk-container {/* jupyter's `normalize.less` sets `[hidden] { display: none; }` but bootstrap.min.css set `[hidden] { display: none !important; }` so we also need the `!important` here to be able to override the default hidden behavior on the sphinx rendered scikit-learn.org. See: https://github.com/scikit-learn/scikit-learn/issues/21755 */display: inline-block !important;position: relative;}#sk-container-id-6 div.sk-text-repr-fallback {display: none;}</style><div id=\"sk-container-id-6\" class=\"sk-top-container\"><div class=\"sk-text-repr-fallback\"><pre>LinearSVC(dual=False)</pre><b>In a Jupyter environment, please rerun this cell to show the HTML representation or trust the notebook. <br />On GitHub, the HTML representation is unable to render, please try loading this page with nbviewer.org.</b></div><div class=\"sk-container\" hidden><div class=\"sk-item\"><div class=\"sk-estimator sk-toggleable\"><input class=\"sk-toggleable__control sk-hidden--visually\" id=\"sk-estimator-id-6\" type=\"checkbox\" checked><label for=\"sk-estimator-id-6\" class=\"sk-toggleable__label sk-toggleable__label-arrow\">LinearSVC</label><div class=\"sk-toggleable__content\"><pre>LinearSVC(dual=False)</pre></div></div></div></div></div>"
            ]
          },
          "metadata": {},
          "execution_count": 73
        }
      ],
      "source": [
        "# Support Vector Classifier model\n",
        "\n",
        "svr_lin = LinearSVC(multi_class='ovr',C=1.0,loss='squared_hinge', dual=False)\n",
        "svr_lin.fit(X_train_tvec, Y_train)"
      ]
    },
    {
      "cell_type": "code",
      "execution_count": null,
      "metadata": {
        "colab": {
          "base_uri": "https://localhost:8080/",
          "height": 206
        },
        "id": "bUp_vu2oiq4f",
        "outputId": "5e3b7e17-9b65-40d6-eed1-6263c98cb440"
      },
      "outputs": [
        {
          "output_type": "execute_result",
          "data": {
            "text/plain": [
              "<pandas.io.formats.style.Styler at 0x7d9acb9fd150>"
            ],
            "text/html": [
              "<style type=\"text/css\">\n",
              "#T_8c795_row0_col0, #T_8c795_row0_col1, #T_8c795_row0_col2, #T_8c795_row2_col3 {\n",
              "  background-color: #f2f2dd;\n",
              "  color: #000000;\n",
              "}\n",
              "#T_8c795_row0_col3 {\n",
              "  background-color: #f6f6a1;\n",
              "  color: #000000;\n",
              "}\n",
              "#T_8c795_row1_col0, #T_8c795_row1_col1, #T_8c795_row1_col2, #T_8c795_row3_col3, #T_8c795_row4_col3 {\n",
              "  background-color: #ffff00;\n",
              "  color: #000000;\n",
              "}\n",
              "#T_8c795_row1_col3 {\n",
              "  background-color: #fbfb3c;\n",
              "  color: #000000;\n",
              "}\n",
              "#T_8c795_row2_col0 {\n",
              "  background-color: #fcfc31;\n",
              "  color: #000000;\n",
              "}\n",
              "#T_8c795_row2_col1, #T_8c795_row4_col1 {\n",
              "  background-color: #fcfc37;\n",
              "  color: #000000;\n",
              "}\n",
              "#T_8c795_row2_col2 {\n",
              "  background-color: #fcfc2f;\n",
              "  color: #000000;\n",
              "}\n",
              "#T_8c795_row3_col0 {\n",
              "  background-color: #f8f87b;\n",
              "  color: #000000;\n",
              "}\n",
              "#T_8c795_row3_col1 {\n",
              "  background-color: #f9f96e;\n",
              "  color: #000000;\n",
              "}\n",
              "#T_8c795_row3_col2 {\n",
              "  background-color: #f8f86f;\n",
              "  color: #000000;\n",
              "}\n",
              "#T_8c795_row4_col0 {\n",
              "  background-color: #fbfb4a;\n",
              "  color: #000000;\n",
              "}\n",
              "#T_8c795_row4_col2 {\n",
              "  background-color: #fbfb3f;\n",
              "  color: #000000;\n",
              "}\n",
              "</style>\n",
              "<table id=\"T_8c795\" class=\"dataframe\">\n",
              "  <thead>\n",
              "    <tr>\n",
              "      <th class=\"blank level0\" >&nbsp;</th>\n",
              "      <th id=\"T_8c795_level0_col0\" class=\"col_heading level0 col0\" >precision</th>\n",
              "      <th id=\"T_8c795_level0_col1\" class=\"col_heading level0 col1\" >recall</th>\n",
              "      <th id=\"T_8c795_level0_col2\" class=\"col_heading level0 col2\" >f1-score</th>\n",
              "      <th id=\"T_8c795_level0_col3\" class=\"col_heading level0 col3\" >support</th>\n",
              "    </tr>\n",
              "  </thead>\n",
              "  <tbody>\n",
              "    <tr>\n",
              "      <th id=\"T_8c795_level0_row0\" class=\"row_heading level0 row0\" >0.0</th>\n",
              "      <td id=\"T_8c795_row0_col0\" class=\"data row0 col0\" >0.820000</td>\n",
              "      <td id=\"T_8c795_row0_col1\" class=\"data row0 col1\" >0.740000</td>\n",
              "      <td id=\"T_8c795_row0_col2\" class=\"data row0 col2\" >0.780000</td>\n",
              "      <td id=\"T_8c795_row0_col3\" class=\"data row0 col3\" >2596.000000</td>\n",
              "    </tr>\n",
              "    <tr>\n",
              "      <th id=\"T_8c795_level0_row1\" class=\"row_heading level0 row1\" >1.0</th>\n",
              "      <td id=\"T_8c795_row1_col0\" class=\"data row1 col0\" >0.910000</td>\n",
              "      <td id=\"T_8c795_row1_col1\" class=\"data row1 col1\" >0.940000</td>\n",
              "      <td id=\"T_8c795_row1_col2\" class=\"data row1 col2\" >0.920000</td>\n",
              "      <td id=\"T_8c795_row1_col3\" class=\"data row1 col3\" >6968.000000</td>\n",
              "    </tr>\n",
              "    <tr>\n",
              "      <th id=\"T_8c795_level0_row2\" class=\"row_heading level0 row2\" >accuracy</th>\n",
              "      <td id=\"T_8c795_row2_col0\" class=\"data row2 col0\" >0.890000</td>\n",
              "      <td id=\"T_8c795_row2_col1\" class=\"data row2 col1\" >0.890000</td>\n",
              "      <td id=\"T_8c795_row2_col2\" class=\"data row2 col2\" >0.890000</td>\n",
              "      <td id=\"T_8c795_row2_col3\" class=\"data row2 col3\" >0.890000</td>\n",
              "    </tr>\n",
              "    <tr>\n",
              "      <th id=\"T_8c795_level0_row3\" class=\"row_heading level0 row3\" >macro avg</th>\n",
              "      <td id=\"T_8c795_row3_col0\" class=\"data row3 col0\" >0.860000</td>\n",
              "      <td id=\"T_8c795_row3_col1\" class=\"data row3 col1\" >0.840000</td>\n",
              "      <td id=\"T_8c795_row3_col2\" class=\"data row3 col2\" >0.850000</td>\n",
              "      <td id=\"T_8c795_row3_col3\" class=\"data row3 col3\" >9564.000000</td>\n",
              "    </tr>\n",
              "    <tr>\n",
              "      <th id=\"T_8c795_level0_row4\" class=\"row_heading level0 row4\" >weighted avg</th>\n",
              "      <td id=\"T_8c795_row4_col0\" class=\"data row4 col0\" >0.880000</td>\n",
              "      <td id=\"T_8c795_row4_col1\" class=\"data row4 col1\" >0.890000</td>\n",
              "      <td id=\"T_8c795_row4_col2\" class=\"data row4 col2\" >0.880000</td>\n",
              "      <td id=\"T_8c795_row4_col3\" class=\"data row4 col3\" >9564.000000</td>\n",
              "    </tr>\n",
              "  </tbody>\n",
              "</table>\n"
            ]
          },
          "metadata": {},
          "execution_count": 74
        }
      ],
      "source": [
        "# Predict using training and testing data and display the accuracy, f-1 score, precision for Positive and Negative Sentiment Classifiers\n",
        "svr_lin_predictions = svr_lin.predict(tvec.transform(X_test_cleaned))\n",
        "report = classification_report(Y_test,svr_lin_predictions, output_dict=True)\n",
        "data_report = pd.DataFrame(report).transpose().round(2)\n",
        "cm = sns.light_palette(\"yellow\", as_cmap=True)\n",
        "data_report.style.background_gradient(cmap=cm)"
      ]
    },
    {
      "cell_type": "code",
      "execution_count": null,
      "metadata": {
        "colab": {
          "base_uri": "https://localhost:8080/",
          "height": 472
        },
        "id": "4bUllJ76iq6g",
        "outputId": "457a6e19-0a57-44f6-9c91-7164dd9fe7dc"
      },
      "outputs": [
        {
          "output_type": "display_data",
          "data": {
            "text/plain": [
              "<Figure size 640x480 with 2 Axes>"
            ],
            "image/png": "[encoded data removed]"
          },
          "metadata": {}
        }
      ],
      "source": [
        "# confusion matrix\n",
        "svr_lin_predictions=svr_lin.predict(tvec.transform(X_test_cleaned))\n",
        "ax= plt.subplot()\n",
        "cm=confusion_matrix(Y_test,svr_lin_predictions)\n",
        "sns.heatmap(cm, annot=True, fmt='g', ax=ax,cmap='Greens');\n",
        "ax.set_xlabel('Predicted labels');ax.set_ylabel('True labels');\n",
        "ax.set_title('Confusion Matrix');\n",
        "ax.xaxis.set_ticklabels(['negative', 'positive']); ax.yaxis.set_ticklabels(['negative', 'positive']);"
      ]
    },
    {
      "cell_type": "code",
      "source": [
        "import time\n",
        "from sklearn.svm import LinearSVC\n",
        "from sklearn.metrics import classification_report, confusion_matrix\n",
        "\n",
        "# Initialize a LinearSVC model\n",
        "svr_lin = LinearSVC(multi_class='ovr', C=1.0, loss='squared_hinge', dual=False)\n",
        "\n",
        "# Training time measurement\n",
        "start_time_training = time.time()\n",
        "svr_lin.fit(X_train_tvec, Y_train)\n",
        "end_time_training = time.time()\n",
        "training_time = end_time_training - start_time_training\n",
        "\n",
        "# Prediction time measurement\n",
        "start_time_prediction = time.time()\n",
        "svr_lin_predictions = svr_lin.predict(tvec.transform(X_test_cleaned))\n",
        "end_time_prediction = time.time()\n",
        "prediction_time = end_time_prediction - start_time_prediction\n",
        "\n",
        "# Display training and prediction times\n",
        "print(\"Training Time: {:.2f} seconds\".format(training_time))\n",
        "print(\"Prediction Time: {:.2f} seconds\".format(prediction_time))"
      ],
      "metadata": {
        "colab": {
          "base_uri": "https://localhost:8080/"
        },
        "id": "mZPF_M7fLq1C",
        "outputId": "5ada7eeb-bd75-4680-99f9-89636646c253"
      },
      "execution_count": null,
      "outputs": [
        {
          "output_type": "stream",
          "name": "stdout",
          "text": [
            "Training Time: 0.15 seconds\n",
            "Prediction Time: 0.30 seconds\n"
          ]
        }
      ]
    },
    {
      "cell_type": "code",
      "execution_count": null,
      "metadata": {
        "colab": {
          "base_uri": "https://localhost:8080/"
        },
        "id": "kuTVY1cjk7fs",
        "outputId": "ddebb4a3-82ed-4909-e1df-a774eb252c1c"
      },
      "outputs": [
        {
          "output_type": "stream",
          "name": "stdout",
          "text": [
            "[0.]\n"
          ]
        }
      ],
      "source": [
        "# testing the model with sample 'Negative' review\n",
        "demo_review = np.array(['three days of use and it broke very disappointed in this product it worked perfectly for exactly three days and could not be resuscitated it was very inexpensive so i did not want to pay half again the price to ship it back for an exchange so the company would do nothing when they sent me an inquiry as to product satisfaction'])\n",
        "demo_review_X_test = tvec.transform(demo_review)\n",
        "print(svr_lin.predict(demo_review_X_test))\n",
        "\n",
        "# expected output = 0 (Negative)\n",
        "# actual output = 0 (Negative)"
      ]
    },
    {
      "cell_type": "code",
      "execution_count": null,
      "metadata": {
        "colab": {
          "base_uri": "https://localhost:8080/"
        },
        "id": "HkegepQMk7x5",
        "outputId": "725d25be-394c-48e7-c20e-c7115bf63245"
      },
      "outputs": [
        {
          "output_type": "stream",
          "name": "stdout",
          "text": [
            "[1.]\n"
          ]
        }
      ],
      "source": [
        "# testing the model with sample 'Positive' review\n",
        "demo_review_2 = np.array(['Excellent product. Works well and performs as expected.'])\n",
        "demo_review_X_test_2 = tvec.transform(demo_review_2)\n",
        "print(svr_lin.predict(demo_review_X_test_2))\n",
        "\n",
        "# expected output = 1 (Positive)\n",
        "# actual output = 1 (Positive)"
      ]
    },
    {
      "cell_type": "markdown",
      "metadata": {
        "id": "vwM3aYwIlLf9"
      },
      "source": [
        "Random Forest model"
      ]
    },
    {
      "cell_type": "code",
      "execution_count": null,
      "metadata": {
        "id": "pjry7KhHk726",
        "colab": {
          "base_uri": "https://localhost:8080/",
          "height": 75
        },
        "outputId": "75c18f5c-bdaa-42e4-9a8d-55bf976aefd8"
      },
      "outputs": [
        {
          "output_type": "execute_result",
          "data": {
            "text/plain": [
              "RandomForestClassifier()"
            ],
            "text/html": [
              "<style>#sk-container-id-7 {color: black;background-color: white;}#sk-container-id-7 pre{padding: 0;}#sk-container-id-7 div.sk-toggleable {background-color: white;}#sk-container-id-7 label.sk-toggleable__label {cursor: pointer;display: block;width: 100%;margin-bottom: 0;padding: 0.3em;box-sizing: border-box;text-align: center;}#sk-container-id-7 label.sk-toggleable__label-arrow:before {content: \"▸\";float: left;margin-right: 0.25em;color: #696969;}#sk-container-id-7 label.sk-toggleable__label-arrow:hover:before {color: black;}#sk-container-id-7 div.sk-estimator:hover label.sk-toggleable__label-arrow:before {color: black;}#sk-container-id-7 div.sk-toggleable__content {max-height: 0;max-width: 0;overflow: hidden;text-align: left;background-color: #f0f8ff;}#sk-container-id-7 div.sk-toggleable__content pre {margin: 0.2em;color: black;border-radius: 0.25em;background-color: #f0f8ff;}#sk-container-id-7 input.sk-toggleable__control:checked~div.sk-toggleable__content {max-height: 200px;max-width: 100%;overflow: auto;}#sk-container-id-7 input.sk-toggleable__control:checked~label.sk-toggleable__label-arrow:before {content: \"▾\";}#sk-container-id-7 div.sk-estimator input.sk-toggleable__control:checked~label.sk-toggleable__label {background-color: #d4ebff;}#sk-container-id-7 div.sk-label input.sk-toggleable__control:checked~label.sk-toggleable__label {background-color: #d4ebff;}#sk-container-id-7 input.sk-hidden--visually {border: 0;clip: rect(1px 1px 1px 1px);clip: rect(1px, 1px, 1px, 1px);height: 1px;margin: -1px;overflow: hidden;padding: 0;position: absolute;width: 1px;}#sk-container-id-7 div.sk-estimator {font-family: monospace;background-color: #f0f8ff;border: 1px dotted black;border-radius: 0.25em;box-sizing: border-box;margin-bottom: 0.5em;}#sk-container-id-7 div.sk-estimator:hover {background-color: #d4ebff;}#sk-container-id-7 div.sk-parallel-item::after {content: \"\";width: 100%;border-bottom: 1px solid gray;flex-grow: 1;}#sk-container-id-7 div.sk-label:hover label.sk-toggleable__label {background-color: #d4ebff;}#sk-container-id-7 div.sk-serial::before {content: \"\";position: absolute;border-left: 1px solid gray;box-sizing: border-box;top: 0;bottom: 0;left: 50%;z-index: 0;}#sk-container-id-7 div.sk-serial {display: flex;flex-direction: column;align-items: center;background-color: white;padding-right: 0.2em;padding-left: 0.2em;position: relative;}#sk-container-id-7 div.sk-item {position: relative;z-index: 1;}#sk-container-id-7 div.sk-parallel {display: flex;align-items: stretch;justify-content: center;background-color: white;position: relative;}#sk-container-id-7 div.sk-item::before, #sk-container-id-7 div.sk-parallel-item::before {content: \"\";position: absolute;border-left: 1px solid gray;box-sizing: border-box;top: 0;bottom: 0;left: 50%;z-index: -1;}#sk-container-id-7 div.sk-parallel-item {display: flex;flex-direction: column;z-index: 1;position: relative;background-color: white;}#sk-container-id-7 div.sk-parallel-item:first-child::after {align-self: flex-end;width: 50%;}#sk-container-id-7 div.sk-parallel-item:last-child::after {align-self: flex-start;width: 50%;}#sk-container-id-7 div.sk-parallel-item:only-child::after {width: 0;}#sk-container-id-7 div.sk-dashed-wrapped {border: 1px dashed gray;margin: 0 0.4em 0.5em 0.4em;box-sizing: border-box;padding-bottom: 0.4em;background-color: white;}#sk-container-id-7 div.sk-label label {font-family: monospace;font-weight: bold;display: inline-block;line-height: 1.2em;}#sk-container-id-7 div.sk-label-container {text-align: center;}#sk-container-id-7 div.sk-container {/* jupyter's `normalize.less` sets `[hidden] { display: none; }` but bootstrap.min.css set `[hidden] { display: none !important; }` so we also need the `!important` here to be able to override the default hidden behavior on the sphinx rendered scikit-learn.org. See: https://github.com/scikit-learn/scikit-learn/issues/21755 */display: inline-block !important;position: relative;}#sk-container-id-7 div.sk-text-repr-fallback {display: none;}</style><div id=\"sk-container-id-7\" class=\"sk-top-container\"><div class=\"sk-text-repr-fallback\"><pre>RandomForestClassifier()</pre><b>In a Jupyter environment, please rerun this cell to show the HTML representation or trust the notebook. <br />On GitHub, the HTML representation is unable to render, please try loading this page with nbviewer.org.</b></div><div class=\"sk-container\" hidden><div class=\"sk-item\"><div class=\"sk-estimator sk-toggleable\"><input class=\"sk-toggleable__control sk-hidden--visually\" id=\"sk-estimator-id-7\" type=\"checkbox\" checked><label for=\"sk-estimator-id-7\" class=\"sk-toggleable__label sk-toggleable__label-arrow\">RandomForestClassifier</label><div class=\"sk-toggleable__content\"><pre>RandomForestClassifier()</pre></div></div></div></div></div>"
            ]
          },
          "metadata": {},
          "execution_count": 79
        }
      ],
      "source": [
        "# Random Forest model\n",
        "random_forest = RandomForestClassifier()\n",
        "random_forest.fit(X_train_tvec, Y_train)"
      ]
    },
    {
      "cell_type": "code",
      "execution_count": null,
      "metadata": {
        "id": "ck1RY_yPlGwy",
        "colab": {
          "base_uri": "https://localhost:8080/",
          "height": 206
        },
        "outputId": "13a54a4f-c021-42c5-bb6f-52c7835a238f"
      },
      "outputs": [
        {
          "output_type": "execute_result",
          "data": {
            "text/plain": [
              "<pandas.io.formats.style.Styler at 0x7d9ad0e0c220>"
            ],
            "text/html": [
              "<style type=\"text/css\">\n",
              "#T_d68ab_row0_col0, #T_d68ab_row0_col1, #T_d68ab_row0_col2, #T_d68ab_row1_col0, #T_d68ab_row2_col0, #T_d68ab_row2_col3, #T_d68ab_row3_col0, #T_d68ab_row4_col0 {\n",
              "  background-color: #f3f0f0;\n",
              "  color: #000000;\n",
              "}\n",
              "#T_d68ab_row0_col3 {\n",
              "  background-color: #f6afaf;\n",
              "  color: #000000;\n",
              "}\n",
              "#T_d68ab_row1_col1, #T_d68ab_row1_col2, #T_d68ab_row3_col3, #T_d68ab_row4_col3 {\n",
              "  background-color: #ff0000;\n",
              "  color: #f1f1f1;\n",
              "}\n",
              "#T_d68ab_row1_col3, #T_d68ab_row4_col2 {\n",
              "  background-color: #fc4141;\n",
              "  color: #f1f1f1;\n",
              "}\n",
              "#T_d68ab_row2_col1, #T_d68ab_row4_col1 {\n",
              "  background-color: #fc4444;\n",
              "  color: #f1f1f1;\n",
              "}\n",
              "#T_d68ab_row2_col2 {\n",
              "  background-color: #fc3737;\n",
              "  color: #f1f1f1;\n",
              "}\n",
              "#T_d68ab_row3_col1 {\n",
              "  background-color: #f97b7b;\n",
              "  color: #f1f1f1;\n",
              "}\n",
              "#T_d68ab_row3_col2 {\n",
              "  background-color: #f97878;\n",
              "  color: #f1f1f1;\n",
              "}\n",
              "</style>\n",
              "<table id=\"T_d68ab\" class=\"dataframe\">\n",
              "  <thead>\n",
              "    <tr>\n",
              "      <th class=\"blank level0\" >&nbsp;</th>\n",
              "      <th id=\"T_d68ab_level0_col0\" class=\"col_heading level0 col0\" >precision</th>\n",
              "      <th id=\"T_d68ab_level0_col1\" class=\"col_heading level0 col1\" >recall</th>\n",
              "      <th id=\"T_d68ab_level0_col2\" class=\"col_heading level0 col2\" >f1-score</th>\n",
              "      <th id=\"T_d68ab_level0_col3\" class=\"col_heading level0 col3\" >support</th>\n",
              "    </tr>\n",
              "  </thead>\n",
              "  <tbody>\n",
              "    <tr>\n",
              "      <th id=\"T_d68ab_level0_row0\" class=\"row_heading level0 row0\" >0.0</th>\n",
              "      <td id=\"T_d68ab_row0_col0\" class=\"data row0 col0\" >0.860000</td>\n",
              "      <td id=\"T_d68ab_row0_col1\" class=\"data row0 col1\" >0.580000</td>\n",
              "      <td id=\"T_d68ab_row0_col2\" class=\"data row0 col2\" >0.690000</td>\n",
              "      <td id=\"T_d68ab_row0_col3\" class=\"data row0 col3\" >2596.000000</td>\n",
              "    </tr>\n",
              "    <tr>\n",
              "      <th id=\"T_d68ab_level0_row1\" class=\"row_heading level0 row1\" >1.0</th>\n",
              "      <td id=\"T_d68ab_row1_col0\" class=\"data row1 col0\" >0.860000</td>\n",
              "      <td id=\"T_d68ab_row1_col1\" class=\"data row1 col1\" >0.970000</td>\n",
              "      <td id=\"T_d68ab_row1_col2\" class=\"data row1 col2\" >0.910000</td>\n",
              "      <td id=\"T_d68ab_row1_col3\" class=\"data row1 col3\" >6968.000000</td>\n",
              "    </tr>\n",
              "    <tr>\n",
              "      <th id=\"T_d68ab_level0_row2\" class=\"row_heading level0 row2\" >accuracy</th>\n",
              "      <td id=\"T_d68ab_row2_col0\" class=\"data row2 col0\" >0.860000</td>\n",
              "      <td id=\"T_d68ab_row2_col1\" class=\"data row2 col1\" >0.860000</td>\n",
              "      <td id=\"T_d68ab_row2_col2\" class=\"data row2 col2\" >0.860000</td>\n",
              "      <td id=\"T_d68ab_row2_col3\" class=\"data row2 col3\" >0.860000</td>\n",
              "    </tr>\n",
              "    <tr>\n",
              "      <th id=\"T_d68ab_level0_row3\" class=\"row_heading level0 row3\" >macro avg</th>\n",
              "      <td id=\"T_d68ab_row3_col0\" class=\"data row3 col0\" >0.860000</td>\n",
              "      <td id=\"T_d68ab_row3_col1\" class=\"data row3 col1\" >0.770000</td>\n",
              "      <td id=\"T_d68ab_row3_col2\" class=\"data row3 col2\" >0.800000</td>\n",
              "      <td id=\"T_d68ab_row3_col3\" class=\"data row3 col3\" >9564.000000</td>\n",
              "    </tr>\n",
              "    <tr>\n",
              "      <th id=\"T_d68ab_level0_row4\" class=\"row_heading level0 row4\" >weighted avg</th>\n",
              "      <td id=\"T_d68ab_row4_col0\" class=\"data row4 col0\" >0.860000</td>\n",
              "      <td id=\"T_d68ab_row4_col1\" class=\"data row4 col1\" >0.860000</td>\n",
              "      <td id=\"T_d68ab_row4_col2\" class=\"data row4 col2\" >0.850000</td>\n",
              "      <td id=\"T_d68ab_row4_col3\" class=\"data row4 col3\" >9564.000000</td>\n",
              "    </tr>\n",
              "  </tbody>\n",
              "</table>\n"
            ]
          },
          "metadata": {},
          "execution_count": 80
        }
      ],
      "source": [
        "# Predict using training and testing data and display the accuracy, f-1 score, precision for Positive and Negative Sentiment Classifiers\n",
        "ranfrst_predictions = random_forest.predict(tvec.transform(X_test_cleaned))\n",
        "report = classification_report(Y_test,ranfrst_predictions, output_dict=True)\n",
        "data_report = pd.DataFrame(report).transpose().round(2)\n",
        "cm = sns.light_palette(\"red\", as_cmap=True)\n",
        "data_report.style.background_gradient(cmap=cm)"
      ]
    },
    {
      "cell_type": "code",
      "execution_count": null,
      "metadata": {
        "id": "5HSU_IC2lGy7",
        "colab": {
          "base_uri": "https://localhost:8080/",
          "height": 472
        },
        "outputId": "b351a655-feec-42ce-9940-715dd09d9ed8"
      },
      "outputs": [
        {
          "output_type": "display_data",
          "data": {
            "text/plain": [
              "<Figure size 640x480 with 2 Axes>"
            ],
            "image/png": "[encoded data removed]"
          },
          "metadata": {}
        }
      ],
      "source": [
        "# confusion matrix\n",
        "ranfrst_predictions=random_forest.predict(tvec.transform(X_test_cleaned))\n",
        "ax= plt.subplot()\n",
        "cm=confusion_matrix(Y_test,ranfrst_predictions)\n",
        "sns.heatmap(cm, annot=True, fmt='g', ax=ax,cmap='Oranges');\n",
        "ax.set_xlabel('Predicted labels');ax.set_ylabel('True labels');\n",
        "ax.set_title('Confusion Matrix');\n",
        "ax.xaxis.set_ticklabels(['negative', 'positive']); ax.yaxis.set_ticklabels(['negative', 'positive']);"
      ]
    },
    {
      "cell_type": "code",
      "source": [
        "import time\n",
        "from sklearn.ensemble import RandomForestClassifier\n",
        "from sklearn.metrics import classification_report, confusion_matrix\n",
        "\n",
        "# Initialize a Random Forest classifier\n",
        "random_forest = RandomForestClassifier()\n",
        "\n",
        "# Training time measurement\n",
        "start_time_training = time.time()\n",
        "random_forest.fit(X_train_tvec, Y_train)\n",
        "end_time_training = time.time()\n",
        "training_time = end_time_training - start_time_training\n",
        "\n",
        "# Prediction time measurement\n",
        "start_time_prediction = time.time()\n",
        "ranfrst_predictions = random_forest.predict(tvec.transform(X_test_cleaned))\n",
        "end_time_prediction = time.time()\n",
        "prediction_time = end_time_prediction - start_time_prediction\n",
        "\n",
        "# Display training and prediction times\n",
        "print(\"Training Time: {:.2f} seconds\".format(training_time))\n",
        "print(\"Prediction Time: {:.2f} seconds\".format(prediction_time))"
      ],
      "metadata": {
        "colab": {
          "base_uri": "https://localhost:8080/"
        },
        "id": "2Q-oIOJ7MY7Z",
        "outputId": "ab918590-9792-42a2-edfb-24b846c7e832"
      },
      "execution_count": null,
      "outputs": [
        {
          "output_type": "stream",
          "name": "stdout",
          "text": [
            "Training Time: 16.09 seconds\n",
            "Prediction Time: 0.72 seconds\n"
          ]
        }
      ]
    },
    {
      "cell_type": "code",
      "execution_count": null,
      "metadata": {
        "id": "XVTxq7p6lG07",
        "colab": {
          "base_uri": "https://localhost:8080/"
        },
        "outputId": "a1ffaf09-5c39-4e36-f374-6a51d0184bb6"
      },
      "outputs": [
        {
          "output_type": "stream",
          "name": "stdout",
          "text": [
            "[0.]\n"
          ]
        }
      ],
      "source": [
        "# testing the model with sample 'Negative' review\n",
        "demo_review = np.array(['Defective. Bad. Stopped working after one day use'])\n",
        "demo_review_X_test = tvec.transform(demo_review)\n",
        "print(random_forest.predict(demo_review_X_test))\n",
        "\n",
        "# expected output = 0 (Negative)\n",
        "# actual output = 0 (Negative)"
      ]
    },
    {
      "cell_type": "code",
      "execution_count": null,
      "metadata": {
        "id": "ZDoMjLbClG3L",
        "colab": {
          "base_uri": "https://localhost:8080/"
        },
        "outputId": "939d7fc4-4de6-4533-b35b-56e9f1cfca65"
      },
      "outputs": [
        {
          "output_type": "stream",
          "name": "stdout",
          "text": [
            "[1.]\n"
          ]
        }
      ],
      "source": [
        "# testing the model with sample 'Positive' review\n",
        "demo_review_2 = np.array(['Original Product. Great Performance.'])\n",
        "demo_review_X_test_2 = tvec.transform(demo_review_2)\n",
        "print(random_forest.predict(demo_review_X_test_2))\n",
        "\n",
        "# expected output = 1 (Positive)\n",
        "# actual output = 1 (Positive)"
      ]
    },
    {
      "cell_type": "markdown",
      "metadata": {
        "id": "RiuCXHpxloUX"
      },
      "source": [
        "K-Nearest Neighbor model"
      ]
    },
    {
      "cell_type": "code",
      "execution_count": null,
      "metadata": {
        "id": "AS8vUJxslG5Y",
        "colab": {
          "base_uri": "https://localhost:8080/",
          "height": 75
        },
        "outputId": "9d8645f9-78ab-4c7d-98b3-b5d6b419f64e"
      },
      "outputs": [
        {
          "output_type": "execute_result",
          "data": {
            "text/plain": [
              "KNeighborsClassifier()"
            ],
            "text/html": [
              "<style>#sk-container-id-8 {color: black;background-color: white;}#sk-container-id-8 pre{padding: 0;}#sk-container-id-8 div.sk-toggleable {background-color: white;}#sk-container-id-8 label.sk-toggleable__label {cursor: pointer;display: block;width: 100%;margin-bottom: 0;padding: 0.3em;box-sizing: border-box;text-align: center;}#sk-container-id-8 label.sk-toggleable__label-arrow:before {content: \"▸\";float: left;margin-right: 0.25em;color: #696969;}#sk-container-id-8 label.sk-toggleable__label-arrow:hover:before {color: black;}#sk-container-id-8 div.sk-estimator:hover label.sk-toggleable__label-arrow:before {color: black;}#sk-container-id-8 div.sk-toggleable__content {max-height: 0;max-width: 0;overflow: hidden;text-align: left;background-color: #f0f8ff;}#sk-container-id-8 div.sk-toggleable__content pre {margin: 0.2em;color: black;border-radius: 0.25em;background-color: #f0f8ff;}#sk-container-id-8 input.sk-toggleable__control:checked~div.sk-toggleable__content {max-height: 200px;max-width: 100%;overflow: auto;}#sk-container-id-8 input.sk-toggleable__control:checked~label.sk-toggleable__label-arrow:before {content: \"▾\";}#sk-container-id-8 div.sk-estimator input.sk-toggleable__control:checked~label.sk-toggleable__label {background-color: #d4ebff;}#sk-container-id-8 div.sk-label input.sk-toggleable__control:checked~label.sk-toggleable__label {background-color: #d4ebff;}#sk-container-id-8 input.sk-hidden--visually {border: 0;clip: rect(1px 1px 1px 1px);clip: rect(1px, 1px, 1px, 1px);height: 1px;margin: -1px;overflow: hidden;padding: 0;position: absolute;width: 1px;}#sk-container-id-8 div.sk-estimator {font-family: monospace;background-color: #f0f8ff;border: 1px dotted black;border-radius: 0.25em;box-sizing: border-box;margin-bottom: 0.5em;}#sk-container-id-8 div.sk-estimator:hover {background-color: #d4ebff;}#sk-container-id-8 div.sk-parallel-item::after {content: \"\";width: 100%;border-bottom: 1px solid gray;flex-grow: 1;}#sk-container-id-8 div.sk-label:hover label.sk-toggleable__label {background-color: #d4ebff;}#sk-container-id-8 div.sk-serial::before {content: \"\";position: absolute;border-left: 1px solid gray;box-sizing: border-box;top: 0;bottom: 0;left: 50%;z-index: 0;}#sk-container-id-8 div.sk-serial {display: flex;flex-direction: column;align-items: center;background-color: white;padding-right: 0.2em;padding-left: 0.2em;position: relative;}#sk-container-id-8 div.sk-item {position: relative;z-index: 1;}#sk-container-id-8 div.sk-parallel {display: flex;align-items: stretch;justify-content: center;background-color: white;position: relative;}#sk-container-id-8 div.sk-item::before, #sk-container-id-8 div.sk-parallel-item::before {content: \"\";position: absolute;border-left: 1px solid gray;box-sizing: border-box;top: 0;bottom: 0;left: 50%;z-index: -1;}#sk-container-id-8 div.sk-parallel-item {display: flex;flex-direction: column;z-index: 1;position: relative;background-color: white;}#sk-container-id-8 div.sk-parallel-item:first-child::after {align-self: flex-end;width: 50%;}#sk-container-id-8 div.sk-parallel-item:last-child::after {align-self: flex-start;width: 50%;}#sk-container-id-8 div.sk-parallel-item:only-child::after {width: 0;}#sk-container-id-8 div.sk-dashed-wrapped {border: 1px dashed gray;margin: 0 0.4em 0.5em 0.4em;box-sizing: border-box;padding-bottom: 0.4em;background-color: white;}#sk-container-id-8 div.sk-label label {font-family: monospace;font-weight: bold;display: inline-block;line-height: 1.2em;}#sk-container-id-8 div.sk-label-container {text-align: center;}#sk-container-id-8 div.sk-container {/* jupyter's `normalize.less` sets `[hidden] { display: none; }` but bootstrap.min.css set `[hidden] { display: none !important; }` so we also need the `!important` here to be able to override the default hidden behavior on the sphinx rendered scikit-learn.org. See: https://github.com/scikit-learn/scikit-learn/issues/21755 */display: inline-block !important;position: relative;}#sk-container-id-8 div.sk-text-repr-fallback {display: none;}</style><div id=\"sk-container-id-8\" class=\"sk-top-container\"><div class=\"sk-text-repr-fallback\"><pre>KNeighborsClassifier()</pre><b>In a Jupyter environment, please rerun this cell to show the HTML representation or trust the notebook. <br />On GitHub, the HTML representation is unable to render, please try loading this page with nbviewer.org.</b></div><div class=\"sk-container\" hidden><div class=\"sk-item\"><div class=\"sk-estimator sk-toggleable\"><input class=\"sk-toggleable__control sk-hidden--visually\" id=\"sk-estimator-id-8\" type=\"checkbox\" checked><label for=\"sk-estimator-id-8\" class=\"sk-toggleable__label sk-toggleable__label-arrow\">KNeighborsClassifier</label><div class=\"sk-toggleable__content\"><pre>KNeighborsClassifier()</pre></div></div></div></div></div>"
            ]
          },
          "metadata": {},
          "execution_count": 85
        }
      ],
      "source": [
        "# K-Nearest Neighbor model\n",
        "knn = KNeighborsClassifier(n_neighbors=5,metric='minkowski',p=2)\n",
        "knn.fit(X_train_tvec, Y_train)"
      ]
    },
    {
      "cell_type": "code",
      "execution_count": null,
      "metadata": {
        "colab": {
          "base_uri": "https://localhost:8080/",
          "height": 206
        },
        "id": "61mizi1llG7Q",
        "outputId": "e75b16bf-a839-455c-9f13-b1e3153edba5"
      },
      "outputs": [
        {
          "output_type": "execute_result",
          "data": {
            "text/plain": [
              "<pandas.io.formats.style.Styler at 0x7d9acb0bbdf0>"
            ],
            "text/html": [
              "<style type=\"text/css\">\n",
              "#T_1adbf_row0_col0, #T_1adbf_row1_col1, #T_1adbf_row1_col2, #T_1adbf_row3_col3, #T_1adbf_row4_col3 {\n",
              "  background-color: #808080;\n",
              "  color: #f1f1f1;\n",
              "}\n",
              "#T_1adbf_row0_col1, #T_1adbf_row0_col2, #T_1adbf_row1_col0, #T_1adbf_row2_col0, #T_1adbf_row2_col3 {\n",
              "  background-color: #f1f1f1;\n",
              "  color: #000000;\n",
              "}\n",
              "#T_1adbf_row0_col3 {\n",
              "  background-color: #d2d2d2;\n",
              "  color: #000000;\n",
              "}\n",
              "#T_1adbf_row1_col3, #T_1adbf_row4_col2 {\n",
              "  background-color: #9e9e9e;\n",
              "  color: #f1f1f1;\n",
              "}\n",
              "#T_1adbf_row2_col1, #T_1adbf_row4_col1 {\n",
              "  background-color: #9f9f9f;\n",
              "  color: #f1f1f1;\n",
              "}\n",
              "#T_1adbf_row2_col2 {\n",
              "  background-color: #909090;\n",
              "  color: #f1f1f1;\n",
              "}\n",
              "#T_1adbf_row3_col0 {\n",
              "  background-color: #bfbfbf;\n",
              "  color: #000000;\n",
              "}\n",
              "#T_1adbf_row3_col1, #T_1adbf_row3_col2 {\n",
              "  background-color: #b9b9b9;\n",
              "  color: #000000;\n",
              "}\n",
              "#T_1adbf_row4_col0 {\n",
              "  background-color: #d8d8d8;\n",
              "  color: #000000;\n",
              "}\n",
              "</style>\n",
              "<table id=\"T_1adbf\" class=\"dataframe\">\n",
              "  <thead>\n",
              "    <tr>\n",
              "      <th class=\"blank level0\" >&nbsp;</th>\n",
              "      <th id=\"T_1adbf_level0_col0\" class=\"col_heading level0 col0\" >precision</th>\n",
              "      <th id=\"T_1adbf_level0_col1\" class=\"col_heading level0 col1\" >recall</th>\n",
              "      <th id=\"T_1adbf_level0_col2\" class=\"col_heading level0 col2\" >f1-score</th>\n",
              "      <th id=\"T_1adbf_level0_col3\" class=\"col_heading level0 col3\" >support</th>\n",
              "    </tr>\n",
              "  </thead>\n",
              "  <tbody>\n",
              "    <tr>\n",
              "      <th id=\"T_1adbf_level0_row0\" class=\"row_heading level0 row0\" >0.0</th>\n",
              "      <td id=\"T_1adbf_row0_col0\" class=\"data row0 col0\" >0.830000</td>\n",
              "      <td id=\"T_1adbf_row0_col1\" class=\"data row0 col1\" >0.050000</td>\n",
              "      <td id=\"T_1adbf_row0_col2\" class=\"data row0 col2\" >0.100000</td>\n",
              "      <td id=\"T_1adbf_row0_col3\" class=\"data row0 col3\" >2596.000000</td>\n",
              "    </tr>\n",
              "    <tr>\n",
              "      <th id=\"T_1adbf_level0_row1\" class=\"row_heading level0 row1\" >1.0</th>\n",
              "      <td id=\"T_1adbf_row1_col0\" class=\"data row1 col0\" >0.740000</td>\n",
              "      <td id=\"T_1adbf_row1_col1\" class=\"data row1 col1\" >1.000000</td>\n",
              "      <td id=\"T_1adbf_row1_col2\" class=\"data row1 col2\" >0.850000</td>\n",
              "      <td id=\"T_1adbf_row1_col3\" class=\"data row1 col3\" >6968.000000</td>\n",
              "    </tr>\n",
              "    <tr>\n",
              "      <th id=\"T_1adbf_level0_row2\" class=\"row_heading level0 row2\" >accuracy</th>\n",
              "      <td id=\"T_1adbf_row2_col0\" class=\"data row2 col0\" >0.740000</td>\n",
              "      <td id=\"T_1adbf_row2_col1\" class=\"data row2 col1\" >0.740000</td>\n",
              "      <td id=\"T_1adbf_row2_col2\" class=\"data row2 col2\" >0.740000</td>\n",
              "      <td id=\"T_1adbf_row2_col3\" class=\"data row2 col3\" >0.740000</td>\n",
              "    </tr>\n",
              "    <tr>\n",
              "      <th id=\"T_1adbf_level0_row3\" class=\"row_heading level0 row3\" >macro avg</th>\n",
              "      <td id=\"T_1adbf_row3_col0\" class=\"data row3 col0\" >0.780000</td>\n",
              "      <td id=\"T_1adbf_row3_col1\" class=\"data row3 col1\" >0.520000</td>\n",
              "      <td id=\"T_1adbf_row3_col2\" class=\"data row3 col2\" >0.470000</td>\n",
              "      <td id=\"T_1adbf_row3_col3\" class=\"data row3 col3\" >9564.000000</td>\n",
              "    </tr>\n",
              "    <tr>\n",
              "      <th id=\"T_1adbf_level0_row4\" class=\"row_heading level0 row4\" >weighted avg</th>\n",
              "      <td id=\"T_1adbf_row4_col0\" class=\"data row4 col0\" >0.760000</td>\n",
              "      <td id=\"T_1adbf_row4_col1\" class=\"data row4 col1\" >0.740000</td>\n",
              "      <td id=\"T_1adbf_row4_col2\" class=\"data row4 col2\" >0.650000</td>\n",
              "      <td id=\"T_1adbf_row4_col3\" class=\"data row4 col3\" >9564.000000</td>\n",
              "    </tr>\n",
              "  </tbody>\n",
              "</table>\n"
            ]
          },
          "metadata": {},
          "execution_count": 86
        }
      ],
      "source": [
        "# Predict using training and testing data and display the accuracy, f-1 score, precision for Positive and Negative Sentiment Classifiers\n",
        "knn_predictions = knn.predict(tvec.transform(X_test_cleaned))\n",
        "report = classification_report(Y_test,knn_predictions, output_dict=True)\n",
        "data_report = pd.DataFrame(report).transpose().round(2)\n",
        "cm = sns.light_palette(\"gray\", as_cmap=True)\n",
        "data_report.style.background_gradient(cmap=cm)"
      ]
    },
    {
      "cell_type": "code",
      "execution_count": null,
      "metadata": {
        "id": "fM1zxUq_lG9i",
        "colab": {
          "base_uri": "https://localhost:8080/",
          "height": 472
        },
        "outputId": "252924c2-8da9-4739-b779-45ff0ca90658"
      },
      "outputs": [
        {
          "output_type": "display_data",
          "data": {
            "text/plain": [
              "<Figure size 640x480 with 2 Axes>"
            ],
            "image/png": "[encoded data removed]"
          },
          "metadata": {}
        }
      ],
      "source": [
        "# confusion matrix\n",
        "knn_predictions=knn.predict(tvec.transform(X_test_cleaned))\n",
        "ax= plt.subplot()\n",
        "cm=confusion_matrix(Y_test,knn_predictions)\n",
        "sns.heatmap(cm, annot=True, fmt='g', ax=ax,cmap='Reds');\n",
        "ax.set_xlabel('Predicted labels');ax.set_ylabel('True labels');\n",
        "ax.set_title('Confusion Matrix');\n",
        "ax.xaxis.set_ticklabels(['negative', 'positive']); ax.yaxis.set_ticklabels(['negative', 'positive']);"
      ]
    },
    {
      "cell_type": "code",
      "source": [
        "import time\n",
        "from sklearn.neighbors import KNeighborsClassifier\n",
        "from sklearn.metrics import classification_report, confusion_matrix\n",
        "\n",
        "# Initialize a K-Nearest Neighbor classifier with 5 neighbors (you can adjust this parameter)\n",
        "knn = KNeighborsClassifier(n_neighbors=5, metric='minkowski', p=2)\n",
        "\n",
        "# Training time measurement\n",
        "start_time_training = time.time()\n",
        "knn.fit(X_train_tvec, Y_train)\n",
        "end_time_training = time.time()\n",
        "training_time = end_time_training - start_time_training\n",
        "\n",
        "# Prediction time measurement\n",
        "start_time_prediction = time.time()\n",
        "knn_predictions = knn.predict(tvec.transform(X_test_cleaned))\n",
        "end_time_prediction = time.time()\n",
        "prediction_time = end_time_prediction - start_time_prediction\n",
        "\n",
        "# Display training and prediction times\n",
        "print(\"Training Time: {:.2f} seconds\".format(training_time))\n",
        "print(\"Prediction Time: {:.2f} seconds\".format(prediction_time))"
      ],
      "metadata": {
        "colab": {
          "base_uri": "https://localhost:8080/"
        },
        "id": "FFjNzOC5NAX0",
        "outputId": "80385888-1589-4bdb-d7bc-804f87d210fd"
      },
      "execution_count": null,
      "outputs": [
        {
          "output_type": "stream",
          "name": "stdout",
          "text": [
            "Training Time: 0.01 seconds\n",
            "Prediction Time: 102.34 seconds\n"
          ]
        }
      ]
    },
    {
      "cell_type": "code",
      "execution_count": null,
      "metadata": {
        "id": "C4gKV6gHlHA7",
        "colab": {
          "base_uri": "https://localhost:8080/"
        },
        "outputId": "100cb1b2-c28b-437c-9174-9fc279b1535a"
      },
      "outputs": [
        {
          "output_type": "stream",
          "name": "stdout",
          "text": [
            "[1.]\n"
          ]
        }
      ],
      "source": [
        "# testing the model with sample 'Negative' review\n",
        "demo_review = np.array(['Defective. Bad. Stopped working after one day use'])\n",
        "demo_review_X_test = tvec.transform(demo_review)\n",
        "print(knn.predict(demo_review_X_test))\n",
        "\n",
        "# expected output = 0 (Negative)\n",
        "# actual output = 0 (Negative)"
      ]
    },
    {
      "cell_type": "code",
      "execution_count": null,
      "metadata": {
        "id": "XomqlXTnlHD2",
        "colab": {
          "base_uri": "https://localhost:8080/"
        },
        "outputId": "2a368c80-a6a8-40ad-a6f0-08fa0aea7f3c"
      },
      "outputs": [
        {
          "output_type": "stream",
          "name": "stdout",
          "text": [
            "[1.]\n"
          ]
        }
      ],
      "source": [
        "# testing the model with sample 'Positive' review\n",
        "demo_review_2 = np.array(['Excellent product. Works well and performs as expected.'])\n",
        "demo_review_X_test_2 = tvec.transform(demo_review_2)\n",
        "print(knn.predict(demo_review_X_test_2))\n",
        "\n",
        "# expected output = 1 (Positive)\n",
        "# actual output = 1 (Positive)"
      ]
    },
    {
      "cell_type": "markdown",
      "metadata": {
        "id": "wRTjVW9tmfXP"
      },
      "source": [
        "Logistic regression model"
      ]
    },
    {
      "cell_type": "code",
      "execution_count": null,
      "metadata": {
        "id": "v29zx_vclHGq",
        "colab": {
          "base_uri": "https://localhost:8080/"
        },
        "outputId": "765d9f88-a4ff-496c-afca-ae773c620a07"
      },
      "outputs": [
        {
          "output_type": "execute_result",
          "data": {
            "text/plain": [
              "LogisticRegression()"
            ],
            "text/html": [
              "<style>#sk-container-id-9 {color: black;background-color: white;}#sk-container-id-9 pre{padding: 0;}#sk-container-id-9 div.sk-toggleable {background-color: white;}#sk-container-id-9 label.sk-toggleable__label {cursor: pointer;display: block;width: 100%;margin-bottom: 0;padding: 0.3em;box-sizing: border-box;text-align: center;}#sk-container-id-9 label.sk-toggleable__label-arrow:before {content: \"▸\";float: left;margin-right: 0.25em;color: #696969;}#sk-container-id-9 label.sk-toggleable__label-arrow:hover:before {color: black;}#sk-container-id-9 div.sk-estimator:hover label.sk-toggleable__label-arrow:before {color: black;}#sk-container-id-9 div.sk-toggleable__content {max-height: 0;max-width: 0;overflow: hidden;text-align: left;background-color: #f0f8ff;}#sk-container-id-9 div.sk-toggleable__content pre {margin: 0.2em;color: black;border-radius: 0.25em;background-color: #f0f8ff;}#sk-container-id-9 input.sk-toggleable__control:checked~div.sk-toggleable__content {max-height: 200px;max-width: 100%;overflow: auto;}#sk-container-id-9 input.sk-toggleable__control:checked~label.sk-toggleable__label-arrow:before {content: \"▾\";}#sk-container-id-9 div.sk-estimator input.sk-toggleable__control:checked~label.sk-toggleable__label {background-color: #d4ebff;}#sk-container-id-9 div.sk-label input.sk-toggleable__control:checked~label.sk-toggleable__label {background-color: #d4ebff;}#sk-container-id-9 input.sk-hidden--visually {border: 0;clip: rect(1px 1px 1px 1px);clip: rect(1px, 1px, 1px, 1px);height: 1px;margin: -1px;overflow: hidden;padding: 0;position: absolute;width: 1px;}#sk-container-id-9 div.sk-estimator {font-family: monospace;background-color: #f0f8ff;border: 1px dotted black;border-radius: 0.25em;box-sizing: border-box;margin-bottom: 0.5em;}#sk-container-id-9 div.sk-estimator:hover {background-color: #d4ebff;}#sk-container-id-9 div.sk-parallel-item::after {content: \"\";width: 100%;border-bottom: 1px solid gray;flex-grow: 1;}#sk-container-id-9 div.sk-label:hover label.sk-toggleable__label {background-color: #d4ebff;}#sk-container-id-9 div.sk-serial::before {content: \"\";position: absolute;border-left: 1px solid gray;box-sizing: border-box;top: 0;bottom: 0;left: 50%;z-index: 0;}#sk-container-id-9 div.sk-serial {display: flex;flex-direction: column;align-items: center;background-color: white;padding-right: 0.2em;padding-left: 0.2em;position: relative;}#sk-container-id-9 div.sk-item {position: relative;z-index: 1;}#sk-container-id-9 div.sk-parallel {display: flex;align-items: stretch;justify-content: center;background-color: white;position: relative;}#sk-container-id-9 div.sk-item::before, #sk-container-id-9 div.sk-parallel-item::before {content: \"\";position: absolute;border-left: 1px solid gray;box-sizing: border-box;top: 0;bottom: 0;left: 50%;z-index: -1;}#sk-container-id-9 div.sk-parallel-item {display: flex;flex-direction: column;z-index: 1;position: relative;background-color: white;}#sk-container-id-9 div.sk-parallel-item:first-child::after {align-self: flex-end;width: 50%;}#sk-container-id-9 div.sk-parallel-item:last-child::after {align-self: flex-start;width: 50%;}#sk-container-id-9 div.sk-parallel-item:only-child::after {width: 0;}#sk-container-id-9 div.sk-dashed-wrapped {border: 1px dashed gray;margin: 0 0.4em 0.5em 0.4em;box-sizing: border-box;padding-bottom: 0.4em;background-color: white;}#sk-container-id-9 div.sk-label label {font-family: monospace;font-weight: bold;display: inline-block;line-height: 1.2em;}#sk-container-id-9 div.sk-label-container {text-align: center;}#sk-container-id-9 div.sk-container {/* jupyter's `normalize.less` sets `[hidden] { display: none; }` but bootstrap.min.css set `[hidden] { display: none !important; }` so we also need the `!important` here to be able to override the default hidden behavior on the sphinx rendered scikit-learn.org. See: https://github.com/scikit-learn/scikit-learn/issues/21755 */display: inline-block !important;position: relative;}#sk-container-id-9 div.sk-text-repr-fallback {display: none;}</style><div id=\"sk-container-id-9\" class=\"sk-top-container\"><div class=\"sk-text-repr-fallback\"><pre>LogisticRegression()</pre><b>In a Jupyter environment, please rerun this cell to show the HTML representation or trust the notebook. <br />On GitHub, the HTML representation is unable to render, please try loading this page with nbviewer.org.</b></div><div class=\"sk-container\" hidden><div class=\"sk-item\"><div class=\"sk-estimator sk-toggleable\"><input class=\"sk-toggleable__control sk-hidden--visually\" id=\"sk-estimator-id-9\" type=\"checkbox\" checked><label for=\"sk-estimator-id-9\" class=\"sk-toggleable__label sk-toggleable__label-arrow\">LogisticRegression</label><div class=\"sk-toggleable__content\"><pre>LogisticRegression()</pre></div></div></div></div></div>"
            ]
          },
          "metadata": {},
          "execution_count": 91
        }
      ],
      "source": [
        "# Logistic regression model\n",
        "lr = LogisticRegression()\n",
        "lr.fit(X_train_tvec, Y_train)"
      ]
    },
    {
      "cell_type": "code",
      "execution_count": null,
      "metadata": {
        "id": "irGmXrWxlHIv",
        "colab": {
          "base_uri": "https://localhost:8080/"
        },
        "outputId": "f3187a8c-e96c-415f-950b-15696a289b54"
      },
      "outputs": [
        {
          "output_type": "execute_result",
          "data": {
            "text/plain": [
              "<pandas.io.formats.style.Styler at 0x7d9acb0d8220>"
            ],
            "text/html": [
              "<style type=\"text/css\">\n",
              "#T_6f2b8_row0_col0, #T_6f2b8_row0_col1, #T_6f2b8_row0_col2, #T_6f2b8_row2_col3 {\n",
              "  background-color: #f3f0f3;\n",
              "  color: #000000;\n",
              "}\n",
              "#T_6f2b8_row0_col3 {\n",
              "  background-color: #d4afd4;\n",
              "  color: #000000;\n",
              "}\n",
              "#T_6f2b8_row1_col0, #T_6f2b8_row1_col1, #T_6f2b8_row1_col2, #T_6f2b8_row3_col3, #T_6f2b8_row4_col3 {\n",
              "  background-color: #800080;\n",
              "  color: #f1f1f1;\n",
              "}\n",
              "#T_6f2b8_row1_col3 {\n",
              "  background-color: #9f419f;\n",
              "  color: #f1f1f1;\n",
              "}\n",
              "#T_6f2b8_row2_col0, #T_6f2b8_row4_col0 {\n",
              "  background-color: #9c3b9c;\n",
              "  color: #f1f1f1;\n",
              "}\n",
              "#T_6f2b8_row2_col1, #T_6f2b8_row4_col1 {\n",
              "  background-color: #a043a0;\n",
              "  color: #f1f1f1;\n",
              "}\n",
              "#T_6f2b8_row2_col2, #T_6f2b8_row4_col2 {\n",
              "  background-color: #9f409f;\n",
              "  color: #f1f1f1;\n",
              "}\n",
              "#T_6f2b8_row3_col0 {\n",
              "  background-color: #b977b9;\n",
              "  color: #f1f1f1;\n",
              "}\n",
              "#T_6f2b8_row3_col1 {\n",
              "  background-color: #b773b7;\n",
              "  color: #f1f1f1;\n",
              "}\n",
              "#T_6f2b8_row3_col2 {\n",
              "  background-color: #bd80bd;\n",
              "  color: #f1f1f1;\n",
              "}\n",
              "</style>\n",
              "<table id=\"T_6f2b8\" class=\"dataframe\">\n",
              "  <thead>\n",
              "    <tr>\n",
              "      <th class=\"blank level0\" >&nbsp;</th>\n",
              "      <th id=\"T_6f2b8_level0_col0\" class=\"col_heading level0 col0\" >precision</th>\n",
              "      <th id=\"T_6f2b8_level0_col1\" class=\"col_heading level0 col1\" >recall</th>\n",
              "      <th id=\"T_6f2b8_level0_col2\" class=\"col_heading level0 col2\" >f1-score</th>\n",
              "      <th id=\"T_6f2b8_level0_col3\" class=\"col_heading level0 col3\" >support</th>\n",
              "    </tr>\n",
              "  </thead>\n",
              "  <tbody>\n",
              "    <tr>\n",
              "      <th id=\"T_6f2b8_level0_row0\" class=\"row_heading level0 row0\" >0.0</th>\n",
              "      <td id=\"T_6f2b8_row0_col0\" class=\"data row0 col0\" >0.850000</td>\n",
              "      <td id=\"T_6f2b8_row0_col1\" class=\"data row0 col1\" >0.700000</td>\n",
              "      <td id=\"T_6f2b8_row0_col2\" class=\"data row0 col2\" >0.770000</td>\n",
              "      <td id=\"T_6f2b8_row0_col3\" class=\"data row0 col3\" >2596.000000</td>\n",
              "    </tr>\n",
              "    <tr>\n",
              "      <th id=\"T_6f2b8_level0_row1\" class=\"row_heading level0 row1\" >1.0</th>\n",
              "      <td id=\"T_6f2b8_row1_col0\" class=\"data row1 col0\" >0.890000</td>\n",
              "      <td id=\"T_6f2b8_row1_col1\" class=\"data row1 col1\" >0.950000</td>\n",
              "      <td id=\"T_6f2b8_row1_col2\" class=\"data row1 col2\" >0.920000</td>\n",
              "      <td id=\"T_6f2b8_row1_col3\" class=\"data row1 col3\" >6968.000000</td>\n",
              "    </tr>\n",
              "    <tr>\n",
              "      <th id=\"T_6f2b8_level0_row2\" class=\"row_heading level0 row2\" >accuracy</th>\n",
              "      <td id=\"T_6f2b8_row2_col0\" class=\"data row2 col0\" >0.880000</td>\n",
              "      <td id=\"T_6f2b8_row2_col1\" class=\"data row2 col1\" >0.880000</td>\n",
              "      <td id=\"T_6f2b8_row2_col2\" class=\"data row2 col2\" >0.880000</td>\n",
              "      <td id=\"T_6f2b8_row2_col3\" class=\"data row2 col3\" >0.880000</td>\n",
              "    </tr>\n",
              "    <tr>\n",
              "      <th id=\"T_6f2b8_level0_row3\" class=\"row_heading level0 row3\" >macro avg</th>\n",
              "      <td id=\"T_6f2b8_row3_col0\" class=\"data row3 col0\" >0.870000</td>\n",
              "      <td id=\"T_6f2b8_row3_col1\" class=\"data row3 col1\" >0.830000</td>\n",
              "      <td id=\"T_6f2b8_row3_col2\" class=\"data row3 col2\" >0.840000</td>\n",
              "      <td id=\"T_6f2b8_row3_col3\" class=\"data row3 col3\" >9564.000000</td>\n",
              "    </tr>\n",
              "    <tr>\n",
              "      <th id=\"T_6f2b8_level0_row4\" class=\"row_heading level0 row4\" >weighted avg</th>\n",
              "      <td id=\"T_6f2b8_row4_col0\" class=\"data row4 col0\" >0.880000</td>\n",
              "      <td id=\"T_6f2b8_row4_col1\" class=\"data row4 col1\" >0.880000</td>\n",
              "      <td id=\"T_6f2b8_row4_col2\" class=\"data row4 col2\" >0.880000</td>\n",
              "      <td id=\"T_6f2b8_row4_col3\" class=\"data row4 col3\" >9564.000000</td>\n",
              "    </tr>\n",
              "  </tbody>\n",
              "</table>\n"
            ]
          },
          "metadata": {},
          "execution_count": 92
        }
      ],
      "source": [
        "# Predict using training and testing data and display the accuracy, f-1 score, precision for Positive and Negative Sentiment Classifiers\n",
        "lr_predictions = lr.predict(tvec.transform(X_test_cleaned))\n",
        "report = classification_report(Y_test,lr_predictions, output_dict=True)\n",
        "data_report = pd.DataFrame(report).transpose().round(2)\n",
        "cm = sns.light_palette(\"purple\", as_cmap=True)\n",
        "data_report.style.background_gradient(cmap=cm)"
      ]
    },
    {
      "cell_type": "code",
      "execution_count": null,
      "metadata": {
        "id": "1bmsQmo-m6nv",
        "colab": {
          "base_uri": "https://localhost:8080/",
          "height": 54
        },
        "outputId": "3bcdd73f-1b9a-476f-8397-6c21d79f9c98"
      },
      "outputs": [
        {
          "output_type": "display_data",
          "data": {
            "text/plain": [
              "<Figure size 640x480 with 2 Axes>"
            ],
            "image/png": "[encoded data removed]"
          },
          "metadata": {}
        }
      ],
      "source": [
        "# confusion matrix\n",
        "lr_predictions=lr.predict(tvec.transform(X_test_cleaned))\n",
        "ax= plt.subplot()\n",
        "cm=confusion_matrix(Y_test,lr_predictions)\n",
        "sns.heatmap(cm, annot=True, fmt='g', ax=ax,cmap='Reds');\n",
        "ax.set_xlabel('Predicted labels');ax.set_ylabel('True labels');\n",
        "ax.set_title('Confusion Matrix');\n",
        "ax.xaxis.set_ticklabels(['negative', 'positive']); ax.yaxis.set_ticklabels(['negative', 'positive']);"
      ]
    },
    {
      "cell_type": "code",
      "source": [
        "import time\n",
        "from sklearn.linear_model import LogisticRegression\n",
        "from sklearn.metrics import classification_report, confusion_matrix\n",
        "\n",
        "# Initialize a Logistic Regression classifier\n",
        "lr = LogisticRegression()\n",
        "\n",
        "# Training time measurement\n",
        "start_time_training = time.time()\n",
        "lr.fit(X_train_tvec, Y_train)\n",
        "end_time_training = time.time()\n",
        "training_time = end_time_training - start_time_training\n",
        "\n",
        "# Prediction time measurement\n",
        "start_time_prediction = time.time()\n",
        "lr_predictions = lr.predict(tvec.transform(X_test_cleaned))\n",
        "end_time_prediction = time.time()\n",
        "prediction_time = end_time_prediction - start_time_prediction\n",
        "\n",
        "# Display training and prediction times\n",
        "print(\"Training Time: {:.2f} seconds\".format(training_time))\n",
        "print(\"Prediction Time: {:.2f} seconds\".format(prediction_time))"
      ],
      "metadata": {
        "colab": {
          "base_uri": "https://localhost:8080/"
        },
        "id": "yrlHW_fXNZ1X",
        "outputId": "fd7ba871-449f-4bfe-debd-475b05912fda"
      },
      "execution_count": null,
      "outputs": [
        {
          "output_type": "stream",
          "name": "stdout",
          "text": [
            "Training Time: 0.36 seconds\n",
            "Prediction Time: 0.32 seconds\n"
          ]
        }
      ]
    },
    {
      "cell_type": "code",
      "execution_count": null,
      "metadata": {
        "id": "zSJVcsLfm8NJ",
        "colab": {
          "base_uri": "https://localhost:8080/"
        },
        "outputId": "685c6c6c-ee3d-452f-f5f3-d93760df20e0"
      },
      "outputs": [
        {
          "output_type": "stream",
          "name": "stdout",
          "text": [
            "[0.]\n"
          ]
        }
      ],
      "source": [
        "# testing the model with sample 'Negative' review\n",
        "demo_review = np.array(['Defective. Bad. Stopped working after one day use'])\n",
        "demo_review_X_test = tvec.transform(demo_review)\n",
        "print(lr.predict(demo_review_X_test))\n",
        "\n",
        "# expected output = 0 (Negative)\n",
        "# actual output = 0 (Negative)"
      ]
    },
    {
      "cell_type": "code",
      "execution_count": null,
      "metadata": {
        "id": "w1LSP7ZHnCsC",
        "colab": {
          "base_uri": "https://localhost:8080/"
        },
        "outputId": "af8e8dcc-cc4e-4ee1-bf24-2d36e9dbd3f8"
      },
      "outputs": [
        {
          "output_type": "stream",
          "name": "stdout",
          "text": [
            "[1.]\n"
          ]
        }
      ],
      "source": [
        "# testing the model with sample 'Positive' review\n",
        "demo_review_2 = np.array(['Best product.'])\n",
        "demo_review_X_test_2 = tvec.transform(demo_review_2)\n",
        "print(lr.predict(demo_review_X_test_2))\n",
        "\n",
        "# expected output = 1 (Positive)\n",
        "# actual output = 1 (Positive)"
      ]
    },
    {
      "cell_type": "markdown",
      "metadata": {
        "id": "-Ksrag5XnI1B"
      },
      "source": [
        "Naive Bayes model"
      ]
    },
    {
      "cell_type": "code",
      "execution_count": null,
      "metadata": {
        "id": "TiC_jS-tnGXd",
        "colab": {
          "base_uri": "https://localhost:8080/"
        },
        "outputId": "9501c06b-335c-4d80-aac6-b1bf174ddbd5"
      },
      "outputs": [
        {
          "output_type": "execute_result",
          "data": {
            "text/plain": [
              "MultinomialNB()"
            ],
            "text/html": [
              "<style>#sk-container-id-10 {color: black;background-color: white;}#sk-container-id-10 pre{padding: 0;}#sk-container-id-10 div.sk-toggleable {background-color: white;}#sk-container-id-10 label.sk-toggleable__label {cursor: pointer;display: block;width: 100%;margin-bottom: 0;padding: 0.3em;box-sizing: border-box;text-align: center;}#sk-container-id-10 label.sk-toggleable__label-arrow:before {content: \"▸\";float: left;margin-right: 0.25em;color: #696969;}#sk-container-id-10 label.sk-toggleable__label-arrow:hover:before {color: black;}#sk-container-id-10 div.sk-estimator:hover label.sk-toggleable__label-arrow:before {color: black;}#sk-container-id-10 div.sk-toggleable__content {max-height: 0;max-width: 0;overflow: hidden;text-align: left;background-color: #f0f8ff;}#sk-container-id-10 div.sk-toggleable__content pre {margin: 0.2em;color: black;border-radius: 0.25em;background-color: #f0f8ff;}#sk-container-id-10 input.sk-toggleable__control:checked~div.sk-toggleable__content {max-height: 200px;max-width: 100%;overflow: auto;}#sk-container-id-10 input.sk-toggleable__control:checked~label.sk-toggleable__label-arrow:before {content: \"▾\";}#sk-container-id-10 div.sk-estimator input.sk-toggleable__control:checked~label.sk-toggleable__label {background-color: #d4ebff;}#sk-container-id-10 div.sk-label input.sk-toggleable__control:checked~label.sk-toggleable__label {background-color: #d4ebff;}#sk-container-id-10 input.sk-hidden--visually {border: 0;clip: rect(1px 1px 1px 1px);clip: rect(1px, 1px, 1px, 1px);height: 1px;margin: -1px;overflow: hidden;padding: 0;position: absolute;width: 1px;}#sk-container-id-10 div.sk-estimator {font-family: monospace;background-color: #f0f8ff;border: 1px dotted black;border-radius: 0.25em;box-sizing: border-box;margin-bottom: 0.5em;}#sk-container-id-10 div.sk-estimator:hover {background-color: #d4ebff;}#sk-container-id-10 div.sk-parallel-item::after {content: \"\";width: 100%;border-bottom: 1px solid gray;flex-grow: 1;}#sk-container-id-10 div.sk-label:hover label.sk-toggleable__label {background-color: #d4ebff;}#sk-container-id-10 div.sk-serial::before {content: \"\";position: absolute;border-left: 1px solid gray;box-sizing: border-box;top: 0;bottom: 0;left: 50%;z-index: 0;}#sk-container-id-10 div.sk-serial {display: flex;flex-direction: column;align-items: center;background-color: white;padding-right: 0.2em;padding-left: 0.2em;position: relative;}#sk-container-id-10 div.sk-item {position: relative;z-index: 1;}#sk-container-id-10 div.sk-parallel {display: flex;align-items: stretch;justify-content: center;background-color: white;position: relative;}#sk-container-id-10 div.sk-item::before, #sk-container-id-10 div.sk-parallel-item::before {content: \"\";position: absolute;border-left: 1px solid gray;box-sizing: border-box;top: 0;bottom: 0;left: 50%;z-index: -1;}#sk-container-id-10 div.sk-parallel-item {display: flex;flex-direction: column;z-index: 1;position: relative;background-color: white;}#sk-container-id-10 div.sk-parallel-item:first-child::after {align-self: flex-end;width: 50%;}#sk-container-id-10 div.sk-parallel-item:last-child::after {align-self: flex-start;width: 50%;}#sk-container-id-10 div.sk-parallel-item:only-child::after {width: 0;}#sk-container-id-10 div.sk-dashed-wrapped {border: 1px dashed gray;margin: 0 0.4em 0.5em 0.4em;box-sizing: border-box;padding-bottom: 0.4em;background-color: white;}#sk-container-id-10 div.sk-label label {font-family: monospace;font-weight: bold;display: inline-block;line-height: 1.2em;}#sk-container-id-10 div.sk-label-container {text-align: center;}#sk-container-id-10 div.sk-container {/* jupyter's `normalize.less` sets `[hidden] { display: none; }` but bootstrap.min.css set `[hidden] { display: none !important; }` so we also need the `!important` here to be able to override the default hidden behavior on the sphinx rendered scikit-learn.org. See: https://github.com/scikit-learn/scikit-learn/issues/21755 */display: inline-block !important;position: relative;}#sk-container-id-10 div.sk-text-repr-fallback {display: none;}</style><div id=\"sk-container-id-10\" class=\"sk-top-container\"><div class=\"sk-text-repr-fallback\"><pre>MultinomialNB()</pre><b>In a Jupyter environment, please rerun this cell to show the HTML representation or trust the notebook. <br />On GitHub, the HTML representation is unable to render, please try loading this page with nbviewer.org.</b></div><div class=\"sk-container\" hidden><div class=\"sk-item\"><div class=\"sk-estimator sk-toggleable\"><input class=\"sk-toggleable__control sk-hidden--visually\" id=\"sk-estimator-id-10\" type=\"checkbox\" checked><label for=\"sk-estimator-id-10\" class=\"sk-toggleable__label sk-toggleable__label-arrow\">MultinomialNB</label><div class=\"sk-toggleable__content\"><pre>MultinomialNB()</pre></div></div></div></div></div>"
            ]
          },
          "metadata": {},
          "execution_count": 97
        }
      ],
      "source": [
        "# Naive Bayes model\n",
        "nbm = naive_bayes.MultinomialNB()\n",
        "nbm.fit(X_train_tvec, Y_train)"
      ]
    },
    {
      "cell_type": "code",
      "execution_count": null,
      "metadata": {
        "id": "vyRnyTpTnGvg",
        "colab": {
          "base_uri": "https://localhost:8080/"
        },
        "outputId": "53ffbca6-8a31-4be5-b2ac-0cb8651da6ba"
      },
      "outputs": [
        {
          "output_type": "execute_result",
          "data": {
            "text/plain": [
              "<pandas.io.formats.style.Styler at 0x7d9acb06cdc0>"
            ],
            "text/html": [
              "<style type=\"text/css\">\n",
              "#T_fbe52_row0_col0, #T_fbe52_row1_col1, #T_fbe52_row1_col2, #T_fbe52_row3_col3, #T_fbe52_row4_col3 {\n",
              "  background-color: #0000ff;\n",
              "  color: #f1f1f1;\n",
              "}\n",
              "#T_fbe52_row0_col1, #T_fbe52_row0_col2, #T_fbe52_row1_col0, #T_fbe52_row2_col3 {\n",
              "  background-color: #f0f0f3;\n",
              "  color: #000000;\n",
              "}\n",
              "#T_fbe52_row0_col3, #T_fbe52_row4_col0 {\n",
              "  background-color: #afaff6;\n",
              "  color: #000000;\n",
              "}\n",
              "#T_fbe52_row1_col3 {\n",
              "  background-color: #4141fc;\n",
              "  color: #f1f1f1;\n",
              "}\n",
              "#T_fbe52_row2_col0 {\n",
              "  background-color: #dbdbf4;\n",
              "  color: #000000;\n",
              "}\n",
              "#T_fbe52_row2_col1, #T_fbe52_row4_col1 {\n",
              "  background-color: #4242fc;\n",
              "  color: #f1f1f1;\n",
              "}\n",
              "#T_fbe52_row2_col2 {\n",
              "  background-color: #2e2efd;\n",
              "  color: #f1f1f1;\n",
              "}\n",
              "#T_fbe52_row3_col0 {\n",
              "  background-color: #8383f8;\n",
              "  color: #f1f1f1;\n",
              "}\n",
              "#T_fbe52_row3_col1 {\n",
              "  background-color: #7878f9;\n",
              "  color: #f1f1f1;\n",
              "}\n",
              "#T_fbe52_row3_col2 {\n",
              "  background-color: #7979f9;\n",
              "  color: #f1f1f1;\n",
              "}\n",
              "#T_fbe52_row4_col2 {\n",
              "  background-color: #4343fc;\n",
              "  color: #f1f1f1;\n",
              "}\n",
              "</style>\n",
              "<table id=\"T_fbe52\" class=\"dataframe\">\n",
              "  <thead>\n",
              "    <tr>\n",
              "      <th class=\"blank level0\" >&nbsp;</th>\n",
              "      <th id=\"T_fbe52_level0_col0\" class=\"col_heading level0 col0\" >precision</th>\n",
              "      <th id=\"T_fbe52_level0_col1\" class=\"col_heading level0 col1\" >recall</th>\n",
              "      <th id=\"T_fbe52_level0_col2\" class=\"col_heading level0 col2\" >f1-score</th>\n",
              "      <th id=\"T_fbe52_level0_col3\" class=\"col_heading level0 col3\" >support</th>\n",
              "    </tr>\n",
              "  </thead>\n",
              "  <tbody>\n",
              "    <tr>\n",
              "      <th id=\"T_fbe52_level0_row0\" class=\"row_heading level0 row0\" >0.0</th>\n",
              "      <td id=\"T_fbe52_row0_col0\" class=\"data row0 col0\" >0.920000</td>\n",
              "      <td id=\"T_fbe52_row0_col1\" class=\"data row0 col1\" >0.370000</td>\n",
              "      <td id=\"T_fbe52_row0_col2\" class=\"data row0 col2\" >0.530000</td>\n",
              "      <td id=\"T_fbe52_row0_col3\" class=\"data row0 col3\" >2596.000000</td>\n",
              "    </tr>\n",
              "    <tr>\n",
              "      <th id=\"T_fbe52_level0_row1\" class=\"row_heading level0 row1\" >1.0</th>\n",
              "      <td id=\"T_fbe52_row1_col0\" class=\"data row1 col0\" >0.810000</td>\n",
              "      <td id=\"T_fbe52_row1_col1\" class=\"data row1 col1\" >0.990000</td>\n",
              "      <td id=\"T_fbe52_row1_col2\" class=\"data row1 col2\" >0.890000</td>\n",
              "      <td id=\"T_fbe52_row1_col3\" class=\"data row1 col3\" >6968.000000</td>\n",
              "    </tr>\n",
              "    <tr>\n",
              "      <th id=\"T_fbe52_level0_row2\" class=\"row_heading level0 row2\" >accuracy</th>\n",
              "      <td id=\"T_fbe52_row2_col0\" class=\"data row2 col0\" >0.820000</td>\n",
              "      <td id=\"T_fbe52_row2_col1\" class=\"data row2 col1\" >0.820000</td>\n",
              "      <td id=\"T_fbe52_row2_col2\" class=\"data row2 col2\" >0.820000</td>\n",
              "      <td id=\"T_fbe52_row2_col3\" class=\"data row2 col3\" >0.820000</td>\n",
              "    </tr>\n",
              "    <tr>\n",
              "      <th id=\"T_fbe52_level0_row3\" class=\"row_heading level0 row3\" >macro avg</th>\n",
              "      <td id=\"T_fbe52_row3_col0\" class=\"data row3 col0\" >0.860000</td>\n",
              "      <td id=\"T_fbe52_row3_col1\" class=\"data row3 col1\" >0.680000</td>\n",
              "      <td id=\"T_fbe52_row3_col2\" class=\"data row3 col2\" >0.710000</td>\n",
              "      <td id=\"T_fbe52_row3_col3\" class=\"data row3 col3\" >9564.000000</td>\n",
              "    </tr>\n",
              "    <tr>\n",
              "      <th id=\"T_fbe52_level0_row4\" class=\"row_heading level0 row4\" >weighted avg</th>\n",
              "      <td id=\"T_fbe52_row4_col0\" class=\"data row4 col0\" >0.840000</td>\n",
              "      <td id=\"T_fbe52_row4_col1\" class=\"data row4 col1\" >0.820000</td>\n",
              "      <td id=\"T_fbe52_row4_col2\" class=\"data row4 col2\" >0.790000</td>\n",
              "      <td id=\"T_fbe52_row4_col3\" class=\"data row4 col3\" >9564.000000</td>\n",
              "    </tr>\n",
              "  </tbody>\n",
              "</table>\n"
            ]
          },
          "metadata": {},
          "execution_count": 98
        }
      ],
      "source": [
        "# Predict using training and testing data and display the accuracy, f-1 score, precision for Positive and Negative Sentiment Classifiers\n",
        "nbm_predictions = nbm.predict(tvec.transform(X_test_cleaned))\n",
        "report = classification_report(Y_test,nbm_predictions, output_dict=True)\n",
        "data_report = pd.DataFrame(report).transpose().round(2)\n",
        "cm = sns.light_palette(\"blue\", as_cmap=True)\n",
        "data_report.style.background_gradient(cmap=cm)"
      ]
    },
    {
      "cell_type": "code",
      "execution_count": null,
      "metadata": {
        "id": "0Lv41aKdnG0z",
        "colab": {
          "base_uri": "https://localhost:8080/",
          "height": 472
        },
        "outputId": "2b510272-2781-447c-a1f2-abf251be5b71"
      },
      "outputs": [
        {
          "output_type": "display_data",
          "data": {
            "text/plain": [
              "<Figure size 640x480 with 2 Axes>"
            ],
            "image/png": "[encoded data removed]"
          },
          "metadata": {}
        }
      ],
      "source": [
        "# confusion matrix\n",
        "nbm_predictions=nbm.predict(tvec.transform(X_test_cleaned))\n",
        "ax= plt.subplot()\n",
        "cm=confusion_matrix(Y_test,nbm_predictions)\n",
        "sns.heatmap(cm, annot=True, fmt='g', ax=ax,cmap='Purples');\n",
        "ax.set_xlabel('Predicted labels');ax.set_ylabel('True labels');\n",
        "ax.set_title('Confusion Matrix');\n",
        "ax.xaxis.set_ticklabels(['negative', 'positive']); ax.yaxis.set_ticklabels(['negative', 'positive']);"
      ]
    },
    {
      "cell_type": "code",
      "source": [
        "import time\n",
        "from sklearn.naive_bayes import MultinomialNB\n",
        "from sklearn.metrics import classification_report, confusion_matrix\n",
        "\n",
        "# Initialize a Multinomial Naive Bayes classifier\n",
        "nbm = MultinomialNB()\n",
        "\n",
        "# Training time measurement\n",
        "start_time_training = time.time()\n",
        "nbm.fit(X_train_tvec, Y_train)\n",
        "end_time_training = time.time()\n",
        "training_time = end_time_training - start_time_training\n",
        "\n",
        "# Prediction time measurement\n",
        "start_time_prediction = time.time()\n",
        "nbm_predictions = nbm.predict(tvec.transform(X_test_cleaned))\n",
        "end_time_prediction = time.time()\n",
        "prediction_time = end_time_prediction - start_time_prediction\n",
        "\n",
        "# Display training and prediction times\n",
        "print(\"Training Time: {:.2f} seconds\".format(training_time))\n",
        "print(\"Prediction Time: {:.2f} seconds\".format(prediction_time))"
      ],
      "metadata": {
        "colab": {
          "base_uri": "https://localhost:8080/"
        },
        "id": "hJkVkoj-NqJJ",
        "outputId": "a96356a1-e4ee-4fcd-8c3c-7b8131a88459"
      },
      "execution_count": null,
      "outputs": [
        {
          "output_type": "stream",
          "name": "stdout",
          "text": [
            "Training Time: 0.01 seconds\n",
            "Prediction Time: 0.25 seconds\n"
          ]
        }
      ]
    },
    {
      "cell_type": "code",
      "execution_count": null,
      "metadata": {
        "id": "TkAAJtfwnG3F",
        "colab": {
          "base_uri": "https://localhost:8080/"
        },
        "outputId": "8cca47e9-4396-4ef9-fb88-7b58577de0fb"
      },
      "outputs": [
        {
          "output_type": "stream",
          "name": "stdout",
          "text": [
            "[0.]\n"
          ]
        }
      ],
      "source": [
        "# testing the model with sample 'Negative' review\n",
        "demo_review = np.array(['Defective. Bad. Stopped working after one day use'])\n",
        "demo_review_X_test = tvec.transform(demo_review)\n",
        "print(nbm.predict(demo_review_X_test))\n",
        "\n",
        "# expected output = 0 (Negative)\n",
        "# actual output = 0 (Negative)"
      ]
    },
    {
      "cell_type": "code",
      "execution_count": null,
      "metadata": {
        "id": "rKTEZ1EnnHJQ",
        "colab": {
          "base_uri": "https://localhost:8080/"
        },
        "outputId": "90bddb22-54f6-4d1b-f816-dc6e323fb901"
      },
      "outputs": [
        {
          "output_type": "stream",
          "name": "stdout",
          "text": [
            "[1.]\n"
          ]
        }
      ],
      "source": [
        "# testing the model with sample 'Positive' review\n",
        "demo_review_2 = np.array(['Good product. highly recommend buying.'])\n",
        "demo_review_X_test_2 = tvec.transform(demo_review_2)\n",
        "print(nbm.predict(demo_review_X_test_2))\n",
        "\n",
        "# expected output = 1 (Positive)\n",
        "# actual output = 1 (Positive)"
      ]
    }
  ],
  "metadata": {
    "colab": {
      "provenance": [],
      "gpuType": "T4",
      "authorship_tag": "ABX9TyNkZlkpkLC5L4h91T5bSV+4"
    },
    "kernelspec": {
      "display_name": "Python 3",
      "name": "python3"
    },
    "language_info": {
      "name": "python"
    },
    "accelerator": "GPU"
  },
  "nbformat": 4,
  "nbformat_minor": 0
}